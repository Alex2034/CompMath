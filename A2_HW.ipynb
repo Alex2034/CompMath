{
 "cells": [
  {
   "cell_type": "code",
   "execution_count": 187,
   "id": "97e862ac",
   "metadata": {},
   "outputs": [],
   "source": [
    "import numpy as np\n",
    "import matplotlib.pyplot as plt\n",
    "from seaborn import load_dataset\n",
    "import pandas as pd"
   ]
  },
  {
   "cell_type": "markdown",
   "id": "b0fb443b",
   "metadata": {},
   "source": [
    "### Задача 1"
   ]
  },
  {
   "cell_type": "markdown",
   "id": "a2061a47",
   "metadata": {},
   "source": [
    "Функция потерь $\\mathcal{L} = \\sum_{i = 1}^{l} (y_i - \\tilde{y})^2$ есть функция одной переменной $\\tilde{y}$. \n",
    "\n",
    "$\\partial_{\\tilde{y}}\\mathcal{L} = \\sum_{i = 1}^{l} 2(\\tilde{y} - y_i) = 0 \\quad \\Leftrightarrow \\quad \\tilde{y} = \\bar{y}$,\n",
    "\n",
    "где $\\bar{y}$  -- среднее по выборке."
   ]
  },
  {
   "cell_type": "markdown",
   "id": "94bb52ec",
   "metadata": {},
   "source": [
    "### Задача 2\n",
    "Для четырех выборок из квартета Энскомба вычислите выборочные дисперсии x и y координат, а также коэффициент линейной корреляции Пирсона. Изобразите выборки на графиках. "
   ]
  },
  {
   "cell_type": "markdown",
   "id": "058d524f",
   "metadata": {},
   "source": [
    "Данные:"
   ]
  },
  {
   "cell_type": "code",
   "execution_count": 139,
   "id": "8238b4a2",
   "metadata": {},
   "outputs": [],
   "source": [
    "data = load_dataset('anscombe').to_numpy()\n",
    "d1 = data[data[:,0] == 'I'][:,1:].T\n",
    "d2 = data[data[:,0] == 'II'][:,1:].T\n",
    "d3 = data[data[:,0] == 'III'][:,1:].T\n",
    "d4 = data[data[:,0] == 'IV'][:,1:].T"
   ]
  },
  {
   "cell_type": "markdown",
   "id": "4772259e",
   "metadata": {},
   "source": [
    "Хочется много раз написать одно и то же, поэтому нужна"
   ]
  },
  {
   "cell_type": "code",
   "execution_count": 185,
   "id": "913acbd7",
   "metadata": {},
   "outputs": [],
   "source": [
    "def PlotAns(data, axs, i, j):\n",
    "    \n",
    "    x, y = data[0], data[1]\n",
    "    \n",
    "    axs[i,j].scatter(x, y, c='r')\n",
    "    axs[i,j].grid()\n",
    "    axs[i][j].set_xlim(2, 20)\n",
    "    axs[i][j].set_ylim(2, 14)\n",
    "    \n",
    "    vx = np.var(x)\n",
    "    vy = np.var(y)\n",
    "    cov_xy = np.mean((x - x.mean()) * (y - y.mean()))\n",
    "    \n",
    "    text = '\\n'.join((\n",
    "    r'$\\widehat{var} ~x = %.2f$' % (vx, ),\n",
    "    r'$\\widehat{var} ~y = %.2f$' % (vy, ),\n",
    "    r'$r = %.2f$' % (cov_xy/np.sqrt(vx * vy), )\n",
    "    ))\n",
    "\n",
    "    axs[i, j].text(3, 10, text, fontsize=14)"
   ]
  },
  {
   "cell_type": "code",
   "execution_count": 186,
   "id": "28b6dc2b",
   "metadata": {},
   "outputs": [
    {
     "data": {
      "image/png": "[encoded data removed]",
      "text/plain": [
       "<Figure size 1080x576 with 4 Axes>"
      ]
     },
     "metadata": {
      "needs_background": "light"
     },
     "output_type": "display_data"
    }
   ],
   "source": [
    "fig, axs = plt.subplots(2, 2, figsize = (15,8))\n",
    "\n",
    "PlotAns(d1, axs, 0, 0)\n",
    "PlotAns(d2, axs, 0, 1)\n",
    "PlotAns(d3, axs, 1, 0)\n",
    "PlotAns(d4, axs, 1, 1)\n",
    "\n",
    "plt.show()"
   ]
  },
  {
   "cell_type": "markdown",
   "id": "073c53c2",
   "metadata": {},
   "source": [
    "##### C вычислением ковариаии выборки встроенной в np функцией какая-то беда: он ломается из-за автоматического определения парамента shape у переменной типа float, хотя я его даже не просил\n",
    "\n",
    "```\n",
    "---------------------------------------------------------------------------\n",
    "AttributeError                            Traceback (most recent call last)\n",
    "<ipython-input-177-5ccbb38d7ec5> in <module>\n",
    "     22 fig, axs = plt.subplots(2, 2, figsize = (12,8))\n",
    "     23 \n",
    "---> 24 PlotAns(d1, axs, 0, 0)\n",
    "     25 PlotAns(d2, axs, 0, 1)\n",
    "     26 PlotAns(d3, axs, 1, 0)\n",
    "\n",
    "<ipython-input-177-5ccbb38d7ec5> in PlotAns(data, axs, i, j)\n",
    "     15     r'$\\widehat{var} ~y = %.2f$' % (np.var(y), ),\n",
    "     16     ))\n",
    "---> 17     r'$r = %.2f$' % (np.corrcoef(data[0], data[1])[0, 1], )\n",
    "     18 \n",
    "     19     axs[i, j].text(3., 11, textstr, fontsize=14)\n",
    "\n",
    "<__array_function__ internals> in corrcoef(*args, **kwargs)\n",
    "\n",
    "C:\\Anaconda\\lib\\site-packages\\numpy\\lib\\function_base.py in corrcoef(x, y, rowvar, bias, ddof, dtype)\n",
    "   2632         warnings.warn('bias and ddof have no effect and are deprecated',\n",
    "   2633                       DeprecationWarning, stacklevel=3)\n",
    "-> 2634     c = cov(x, y, rowvar, dtype=dtype)\n",
    "   2635     try:\n",
    "   2636         d = diag(c)\n",
    "\n",
    "<__array_function__ internals> in cov(*args, **kwargs)\n",
    "\n",
    "C:\\Anaconda\\lib\\site-packages\\numpy\\lib\\function_base.py in cov(m, y, rowvar, bias, ddof, fweights, aweights, dtype)\n",
    "   2467             w *= aweights\n",
    "   2468 \n",
    "-> 2469     avg, w_sum = average(X, axis=1, weights=w, returned=True)\n",
    "   2470     w_sum = w_sum[0]\n",
    "   2471 \n",
    "\n",
    "<__array_function__ internals> in average(*args, **kwargs)\n",
    "\n",
    "C:\\Anaconda\\lib\\site-packages\\numpy\\lib\\function_base.py in average(a, axis, weights, returned)\n",
    "    413 \n",
    "    414     if returned:\n",
    "--> 415         if scl.shape != avg.shape:\n",
    "    416             scl = np.broadcast_to(scl, avg.shape).copy()\n",
    "    417         return avg, scl\n",
    "\n",
    "AttributeError: 'float' object has no attribute 'shape'\n",
    "```"
   ]
  },
  {
   "cell_type": "markdown",
   "id": "464ac41f",
   "metadata": {},
   "source": [
    "### Задача 3"
   ]
  },
  {
   "cell_type": "markdown",
   "id": "8247480d",
   "metadata": {},
   "source": [
    "$Xw = y$ -- недоопределённая система, то есть условие на переменные (веса) $w$, на котором нужно минимизировать $w^T w$. Решим задачу методом неопределённых множителей Лагранжа:\n",
    "\n",
    "$\\mathcal{L} = w^T w + \\lambda^T (Xw - y)$\n",
    "\n",
    "$\\partial_w\\mathcal{L} = 2w^T + \\lambda^T X = 0 \\quad (1)$\n",
    "\n",
    "$\\partial_\\lambda\\mathcal{L} = Xw - y = 0\\quad (2)$\n",
    "\n",
    "Транспонируем (1) и подставим в (2), чтобы найти $\\lambda$:\n",
    "\n",
    "$2 y = 2Xw = - X X^T\\lambda \\quad \\Rightarrow \\quad \\lambda = -2(X X^T)^{-1} y$\n",
    "\n",
    "Тогда из (1)\n",
    "\n",
    "$w = X^T(X X^T)^{-1} y$ -- то есть $w$ суть действие правой псевдообратной $X$ матрицы на $y$."
   ]
  },
  {
   "cell_type": "markdown",
   "id": "b296a185",
   "metadata": {},
   "source": [
    "### Задача 4"
   ]
  },
  {
   "cell_type": "code",
   "execution_count": 192,
   "id": "edd00280",
   "metadata": {},
   "outputs": [
    {
     "data": {
      "text/html": [
       "<div>\n",
       "<style scoped>\n",
       "    .dataframe tbody tr th:only-of-type {\n",
       "        vertical-align: middle;\n",
       "    }\n",
       "\n",
       "    .dataframe tbody tr th {\n",
       "        vertical-align: top;\n",
       "    }\n",
       "\n",
       "    .dataframe thead th {\n",
       "        text-align: right;\n",
       "    }\n",
       "</style>\n",
       "<table border=\"1\" class=\"dataframe\">\n",
       "  <thead>\n",
       "    <tr style=\"text-align: right;\">\n",
       "      <th></th>\n",
       "      <th>Толщина, см</th>\n",
       "      <th>log</th>\n",
       "      <th>Счетчик</th>\n",
       "      <th>Время, с</th>\n",
       "    </tr>\n",
       "  </thead>\n",
       "  <tbody>\n",
       "    <tr>\n",
       "      <th>0</th>\n",
       "      <td>2.00</td>\n",
       "      <td>0.652172</td>\n",
       "      <td>23200</td>\n",
       "      <td>10</td>\n",
       "    </tr>\n",
       "    <tr>\n",
       "      <th>1</th>\n",
       "      <td>3.95</td>\n",
       "      <td>1.226727</td>\n",
       "      <td>13102</td>\n",
       "      <td>10</td>\n",
       "    </tr>\n",
       "    <tr>\n",
       "      <th>2</th>\n",
       "      <td>5.93</td>\n",
       "      <td>1.799545</td>\n",
       "      <td>7430</td>\n",
       "      <td>10</td>\n",
       "    </tr>\n",
       "    <tr>\n",
       "      <th>3</th>\n",
       "      <td>7.96</td>\n",
       "      <td>2.332406</td>\n",
       "      <td>4400</td>\n",
       "      <td>10</td>\n",
       "    </tr>\n",
       "    <tr>\n",
       "      <th>4</th>\n",
       "      <td>9.96</td>\n",
       "      <td>2.711374</td>\n",
       "      <td>3042</td>\n",
       "      <td>10</td>\n",
       "    </tr>\n",
       "    <tr>\n",
       "      <th>5</th>\n",
       "      <td>11.98</td>\n",
       "      <td>3.209903</td>\n",
       "      <td>1885</td>\n",
       "      <td>10</td>\n",
       "    </tr>\n",
       "    <tr>\n",
       "      <th>6</th>\n",
       "      <td>13.99</td>\n",
       "      <td>3.560166</td>\n",
       "      <td>1356</td>\n",
       "      <td>10</td>\n",
       "    </tr>\n",
       "  </tbody>\n",
       "</table>\n",
       "</div>"
      ],
      "text/plain": [
       "   Толщина, см       log  Счетчик  Время, с\n",
       "0         2.00  0.652172    23200        10\n",
       "1         3.95  1.226727    13102        10\n",
       "2         5.93  1.799545     7430        10\n",
       "3         7.96  2.332406     4400        10\n",
       "4         9.96  2.711374     3042        10\n",
       "5        11.98  3.209903     1885        10\n",
       "6        13.99  3.560166     1356        10"
      ]
     },
     "execution_count": 192,
     "metadata": {},
     "output_type": "execute_result"
    }
   ],
   "source": [
    "data = pd.read_excel('5.5.1.xlsx', sheet_name=1)\n",
    "data"
   ]
  },
  {
   "cell_type": "code",
   "execution_count": 191,
   "id": "40a57fb7",
   "metadata": {},
   "outputs": [],
   "source": [
    "def LinearFit(x, y):\n",
    "    w1 = np.cov([x, y])[0,1] / np.var(x)\n",
    "    w0 = np.mean(y) - w1 * np.mean(x)\n",
    "    return w1, w0"
   ]
  },
  {
   "cell_type": "code",
   "execution_count": 196,
   "id": "1606ba9a",
   "metadata": {},
   "outputs": [],
   "source": [
    "x = data[\"Толщина, см\"].to_numpy()\n",
    "y = data[\"log\"].to_numpy()"
   ]
  },
  {
   "cell_type": "code",
   "execution_count": 214,
   "id": "2f9ece25",
   "metadata": {},
   "outputs": [],
   "source": [
    "from scipy import stats\n",
    "res = stats.linregress(x, y)\n",
    "a, b = res.slope, res.intercept"
   ]
  },
  {
   "cell_type": "code",
   "execution_count": 215,
   "id": "3a8b8f52",
   "metadata": {},
   "outputs": [
    {
     "data": {
      "image/png": "[encoded data removed]",
      "text/plain": [
       "<Figure size 504x360 with 1 Axes>"
      ]
     },
     "metadata": {
      "needs_background": "light"
     },
     "output_type": "display_data"
    }
   ],
   "source": [
    "fig, ax = plt.subplots(figsize=(7,5))\n",
    "ax.plot(x, a * x + b, c=\"r\")\n",
    "ax.scatter(x, y, marker='+', c=\"m\")\n",
    "ax.grid()\n",
    "plt.show()"
   ]
  },
  {
   "cell_type": "code",
   "execution_count": null,
   "id": "82292f81",
   "metadata": {},
   "outputs": [],
   "source": []
  }
 ],
 "metadata": {
  "kernelspec": {
   "display_name": "Python 3",
   "language": "python",
   "name": "python3"
  },
  "language_info": {
   "codemirror_mode": {
    "name": "ipython",
    "version": 3
   },
   "file_extension": ".py",
   "mimetype": "text/x-python",
   "name": "python",
   "nbconvert_exporter": "python",
   "pygments_lexer": "ipython3",
   "version": "3.8.8"
  }
 },
 "nbformat": 4,
 "nbformat_minor": 5
}
