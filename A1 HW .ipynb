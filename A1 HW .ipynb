{
 "cells": [
  {
   "cell_type": "markdown",
   "id": "42be9d19",
   "metadata": {},
   "source": [
    "## Упражнение 1"
   ]
  },
  {
   "cell_type": "markdown",
   "id": "1a5487ea",
   "metadata": {},
   "source": [
    "### 1. Слияние матриц"
   ]
  },
  {
   "cell_type": "code",
   "execution_count": 5,
   "id": "a30e2d95",
   "metadata": {},
   "outputs": [],
   "source": [
    "import numpy as np"
   ]
  },
  {
   "cell_type": "code",
   "execution_count": null,
   "id": "928a0765",
   "metadata": {},
   "outputs": [],
   "source": [
    "a = np.random.randint(1, 20, size = (4, 6))\n",
    "b = np.random.randint(1, 20, size = (4, 8))\n",
    "np.hstack((a,b))"
   ]
  },
  {
   "cell_type": "markdown",
   "id": "84cd638c",
   "metadata": {},
   "source": [
    "### 2. Доступ по индексам\n",
    "\n"
   ]
  },
  {
   "cell_type": "code",
   "execution_count": null,
   "id": "a5677bb6",
   "metadata": {},
   "outputs": [],
   "source": [
    "a = np.random.randint(8, size = (15))\n",
    "b = np.random.randint(8, size = (15))\n",
    "M = np.random.randint(1, 20, size = (8,8))\n",
    "print(a, '\\n')\n",
    "print(b, '\\n')\n",
    "print(M, '\\n')\n",
    "print(M[a,b], '\\n')"
   ]
  },
  {
   "cell_type": "markdown",
   "id": "f9ed90e5",
   "metadata": {},
   "source": [
    "### 3. След и ненулевые элементы"
   ]
  },
  {
   "cell_type": "code",
   "execution_count": null,
   "id": "a72e5965",
   "metadata": {},
   "outputs": [],
   "source": [
    "M = np.random.randint(0, 2, size = (8,8))\n",
    "print(M, '\\n')\n",
    "print(np.trace(M), '\\n')\n",
    "print(np.count_nonzero(np.diag(M)))"
   ]
  },
  {
   "cell_type": "markdown",
   "id": "7fa2190d",
   "metadata": {},
   "source": [
    "### 4. Вхождение элементов"
   ]
  },
  {
   "cell_type": "code",
   "execution_count": null,
   "id": "eaa8d6db",
   "metadata": {},
   "outputs": [],
   "source": [
    "from matplotlib import pyplot as plt"
   ]
  },
  {
   "cell_type": "code",
   "execution_count": null,
   "id": "99b463f5",
   "metadata": {},
   "outputs": [],
   "source": [
    "M = np.random.randint(1, 11, size = (2, 3, 4))\n",
    "unique_el, counts = np.unique(M, return_counts=True)\n",
    "print(M, '\\n')\n",
    "print(unique_el, '\\n')\n",
    "print(counts)"
   ]
  },
  {
   "cell_type": "markdown",
   "id": "12ce5796",
   "metadata": {},
   "source": [
    "### 5. Сравнение элементов"
   ]
  },
  {
   "cell_type": "code",
   "execution_count": null,
   "id": "91413c5b",
   "metadata": {},
   "outputs": [],
   "source": [
    "M = np.random.randint(-11, 11, size = (3, 4))\n",
    "print(M, '\\n')\n",
    "N = np.random.randint(-13, 13, size = (3, 4))\n",
    "print(N, '\\n')\n",
    "M[N < 0] = 0\n",
    "print(M, '\\n')"
   ]
  },
  {
   "cell_type": "markdown",
   "id": "9be3cb0f",
   "metadata": {},
   "source": [
    "### 6. Арифметика"
   ]
  },
  {
   "cell_type": "code",
   "execution_count": null,
   "id": "38d13b78",
   "metadata": {},
   "outputs": [],
   "source": [
    "M = np.random.randint(-11, 11, size = (4, 4))\n",
    "print('M = \\n', M, '\\n')\n",
    "m = np.mean(M, 0)\n",
    "res = M - m\n",
    "norm = np.linalg.norm(res, ord=2, axis=0)\n",
    "norm[norm == 0] = 1\n",
    "res = res / norm\n",
    "print(res, '\\n')"
   ]
  },
  {
   "cell_type": "code",
   "execution_count": null,
   "id": "1e18b00a",
   "metadata": {},
   "outputs": [],
   "source": []
  },
  {
   "cell_type": "code",
   "execution_count": null,
   "id": "9ed18fad",
   "metadata": {},
   "outputs": [],
   "source": [
    "M = np.random.randint(-11,11, size = (4, 5))\n",
    "print('M = \\n', M, '\\n')\n",
    "N = np.random.randint(-11, 11, size = (4, 5))\n",
    "print('N = \\n', N, '\\n')\n",
    "print(N.T @ M)"
   ]
  },
  {
   "cell_type": "markdown",
   "id": "453c3fb3",
   "metadata": {},
   "source": [
    "### 8. Быстрое умножение"
   ]
  },
  {
   "cell_type": "code",
   "execution_count": 6,
   "id": "9568da32",
   "metadata": {},
   "outputs": [],
   "source": [
    "import time"
   ]
  },
  {
   "cell_type": "markdown",
   "id": "42d9b5c4",
   "metadata": {},
   "source": [
    "Определим функции"
   ]
  },
  {
   "cell_type": "code",
   "execution_count": 7,
   "id": "a995ef10",
   "metadata": {},
   "outputs": [],
   "source": [
    "def NumpyTime(n, it = 10):   \n",
    "    timer = []\n",
    "    for i in range(it):\n",
    "        M = np.random.random(size=(n, n))\n",
    "        N = np.random.random(size=(n, n))\n",
    "        t1 = time.time()\n",
    "        M @ N\n",
    "        t2 = time.time()\n",
    "        timer.append(t2 - t1)\n",
    "    return np.mean(timer)\n",
    "\n",
    "def SmartForTime(n, it = 10):   \n",
    "    timer = []\n",
    "    for k in range(it):\n",
    "        M = np.random.random(size=(n, n))\n",
    "        N = np.random.random(size=(n, n))\n",
    "        P = np.zeros((n,n))\n",
    "        t1 = time.time()\n",
    "        for i in range(n):\n",
    "            for j in range(n):\n",
    "                P[i,j] = M[i,:]@N[:,j]\n",
    "        t2 = time.time()\n",
    "        timer.append(t2 - t1)\n",
    "    return np.mean(timer)\n",
    "\n",
    "def DumbForTime(n, it = 10):   \n",
    "    timer = []\n",
    "    for k in range(it):\n",
    "        M = np.random.random(size=(n, n))\n",
    "        N = np.random.random(size=(n, n))\n",
    "        P = np.zeros((n,n))\n",
    "        t1 = time.time()\n",
    "        for i in range(n):\n",
    "            for j in range(n):\n",
    "                sum = 0\n",
    "                for l in range(n):\n",
    "                    sum += M[i,l] * N[l,j]\n",
    "                P[i,j] = sum\n",
    "        t2 = time.time()\n",
    "        timer.append(t2 - t1)\n",
    "    return np.mean(timer)"
   ]
  },
  {
   "cell_type": "markdown",
   "id": "bece3d57",
   "metadata": {},
   "source": [
    "Подберём параменры выборки:"
   ]
  },
  {
   "cell_type": "code",
   "execution_count": null,
   "id": "76bf1138",
   "metadata": {},
   "outputs": [],
   "source": [
    "print('\\n np_time = ', NumpyTime(100, 1000),'\\n sfor_time = ',  SmartForTime(100, 1),'\\n dfor_time = ',  DumbForTime(100, 1))"
   ]
  },
  {
   "cell_type": "markdown",
   "id": "fca67674",
   "metadata": {},
   "source": [
    "Соберём данные:"
   ]
  },
  {
   "cell_type": "code",
   "execution_count": 8,
   "id": "ce0e06e3",
   "metadata": {
    "scrolled": true
   },
   "outputs": [
    {
     "data": {
      "text/plain": [
       "(array([0.00000000e+00, 0.00000000e+00, 1.00326538e-04, 0.00000000e+00,\n",
       "        0.00000000e+00, 0.00000000e+00, 0.00000000e+00, 8.00085068e-04,\n",
       "        1.00088120e-04, 0.00000000e+00, 0.00000000e+00, 0.00000000e+00,\n",
       "        0.00000000e+00, 9.96112823e-05, 0.00000000e+00, 9.98497009e-05,\n",
       "        0.00000000e+00, 0.00000000e+00, 0.00000000e+00, 0.00000000e+00,\n",
       "        1.00040436e-04, 0.00000000e+00, 9.95397568e-05, 0.00000000e+00,\n",
       "        0.00000000e+00, 0.00000000e+00, 0.00000000e+00, 0.00000000e+00,\n",
       "        0.00000000e+00, 1.00135803e-04, 1.00016594e-04, 0.00000000e+00,\n",
       "        1.00016594e-04, 1.99913979e-04, 1.00541115e-04, 9.96828079e-05,\n",
       "        9.99689102e-05, 2.00152397e-04, 9.96828079e-05, 0.00000000e+00,\n",
       "        0.00000000e+00, 0.00000000e+00, 1.99961662e-04, 0.00000000e+00,\n",
       "        0.00000000e+00, 1.00326538e-04, 9.98497009e-05, 2.00033188e-04,\n",
       "        9.99927521e-05, 9.98020172e-05, 1.99961662e-04, 2.99882889e-04,\n",
       "        2.99787521e-04, 1.99985504e-04, 1.00350380e-04, 1.00040436e-04,\n",
       "        0.00000000e+00, 1.99985504e-04, 9.97543335e-05, 1.00016594e-04,\n",
       "        1.00016594e-04, 0.00000000e+00, 0.00000000e+00, 0.00000000e+00,\n",
       "        0.00000000e+00, 0.00000000e+00, 3.00002098e-04, 0.00000000e+00,\n",
       "        9.99927521e-05, 9.99927521e-05, 9.99450684e-05, 1.00374222e-04,\n",
       "        9.99450684e-05, 9.99450684e-05, 9.99689102e-05, 2.99596786e-04,\n",
       "        1.00111961e-04, 9.97304916e-05, 6.00719452e-04, 1.99794769e-04,\n",
       "        1.99985504e-04, 3.00025940e-04, 3.00288200e-04, 1.99961662e-04,\n",
       "        3.00121307e-04, 9.97781754e-05, 2.00009346e-04, 2.99906731e-04,\n",
       "        1.00016594e-04, 1.00016594e-04]),\n",
       " array([0.00099874, 0.00100017, 0.0010004 , 0.00099993, 0.00100017,\n",
       "        0.00099993, 0.00200033, 0.00099993, 0.00200009, 0.00200033,\n",
       "        0.00200009, 0.00199866, 0.00299978, 0.00300026, 0.00300002,\n",
       "        0.0040195 , 0.00399971, 0.00500083, 0.00399995, 0.0039804 ,\n",
       "        0.00400019, 0.00400043, 0.00600243, 0.00600028, 0.00500035,\n",
       "        0.00699878, 0.006001  , 0.00700068, 0.00700068, 0.0080018 ,\n",
       "        0.00901961, 0.01098156, 0.01400089, 0.0110023 , 0.01100349,\n",
       "        0.01299715, 0.01500082, 0.01400352, 0.01299834, 0.01400256,\n",
       "        0.01400185, 0.01401877, 0.01398134, 0.01502085, 0.01499295,\n",
       "        0.01799083, 0.01702094, 0.01698232, 0.01900434, 0.02299905,\n",
       "        0.02199817, 0.02299929, 0.02000356, 0.02301931, 0.02900553,\n",
       "        0.03400207, 0.03400493, 0.03900242, 0.03800344, 0.03800035,\n",
       "        0.03600502, 0.05800319, 0.10300803, 0.09600854, 0.11601233,\n",
       "        0.0930047 , 0.08800626, 0.06600785, 0.0470016 , 0.04600286,\n",
       "        0.04700208, 0.04800415, 0.04500389, 0.04100299, 0.0840075 ,\n",
       "        0.11801171, 0.164011  , 0.13001132, 0.09700537, 0.04400373,\n",
       "        0.04300213, 0.04700351, 0.1280334 , 0.20001626, 0.07500553,\n",
       "        0.05400491, 0.11600637, 0.07800627, 0.16900802, 0.05700374]),\n",
       " array([1.99937820e-03, 2.00176239e-03, 2.00057030e-03, 3.00025940e-03,\n",
       "        3.00049782e-03, 4.00042534e-03, 7.00235367e-03, 6.00028038e-03,\n",
       "        7.99775124e-03, 8.99982452e-03, 9.02080536e-03, 1.20010376e-02,\n",
       "        1.29852295e-02, 1.39982700e-02, 1.80017948e-02, 2.10006237e-02,\n",
       "        2.20029354e-02, 2.50205994e-02, 8.59889984e-02, 3.79989147e-02,\n",
       "        3.90038490e-02, 4.10075188e-02, 1.42008305e-01, 1.20007992e-01,\n",
       "        5.00040054e-02, 5.20212650e-02, 5.80048561e-02, 6.19850159e-02,\n",
       "        7.40118027e-02, 2.68018246e-01, 1.34009600e-01, 8.10258389e-02,\n",
       "        8.70261192e-02, 8.89890194e-02, 9.70091820e-02, 1.09009504e-01,\n",
       "        1.39007330e-01, 1.19029760e-01, 1.31992340e-01, 1.40010357e-01,\n",
       "        2.86021471e-01, 1.65031910e-01, 1.60995007e-01, 2.41017818e-01,\n",
       "        2.51020908e-01, 2.37019062e-01, 4.37031746e-01, 2.26037025e-01,\n",
       "        3.57010841e-01, 4.88039255e-01, 4.45038319e-01, 4.13030863e-01,\n",
       "        4.45055723e-01, 3.65030050e-01, 3.82014990e-01, 5.41041136e-01,\n",
       "        4.14033651e-01, 4.44034338e-01, 3.60029936e-01, 4.58037138e-01,\n",
       "        4.91038561e-01, 4.18034315e-01, 4.71040726e-01, 5.31061411e-01,\n",
       "        6.97038651e-01, 5.14059067e-01, 6.04031086e-01, 5.50043106e-01,\n",
       "        5.59046030e-01, 6.51050568e-01, 1.08408999e+00, 7.26073265e-01,\n",
       "        6.30051374e-01, 8.91071320e-01, 1.17908597e+00, 7.46052027e-01,\n",
       "        1.19610238e+00, 1.92115974e+00, 2.37619376e+00, 2.50120211e+00,\n",
       "        8.90091658e-01, 1.78312659e+00, 2.44520283e+00, 2.12617087e+00,\n",
       "        1.43412828e+00, 1.64211321e+00, 1.56312704e+00, 1.24909735e+00,\n",
       "        1.44411755e+00, 1.51910663e+00]))"
      ]
     },
     "execution_count": 8,
     "metadata": {},
     "output_type": "execute_result"
    }
   ],
   "source": [
    "n_arr = np.arange(10, 100)\n",
    "np_data = np.vectorize(lambda x: NumpyTime(x, 10))(n_arr)\n",
    "sfor_data = np.vectorize(lambda x: SmartForTime(x, 1))(n_arr)\n",
    "dfor_data = np.vectorize(lambda x: DumbForTime(x, 1))(n_arr)\n",
    "np_data, sfor_data, dfor_data"
   ]
  },
  {
   "cell_type": "markdown",
   "id": "b996b45c",
   "metadata": {},
   "source": [
    "Построим:"
   ]
  },
  {
   "cell_type": "code",
   "execution_count": 9,
   "id": "bbd8153c",
   "metadata": {},
   "outputs": [],
   "source": [
    "from matplotlib import pyplot as plt"
   ]
  },
  {
   "cell_type": "code",
   "execution_count": 11,
   "id": "7c293d64",
   "metadata": {},
   "outputs": [
    {
     "data": {
      "image/png": "[encoded data removed]",
      "text/plain": [
       "<Figure size 1080x720 with 1 Axes>"
      ]
     },
     "metadata": {
      "needs_background": "light"
     },
     "output_type": "display_data"
    }
   ],
   "source": [
    "plt.figure(figsize=(15, 10))\n",
    "plt.title('Время выполнения')\n",
    "plt.scatter(n_arr, np_data, c='r', label='NumPy', marker = '1')\n",
    "plt.scatter(n_arr, sfor_data, c='b', label='Smart \"for\"-method', marker = '2')\n",
    "plt.scatter(n_arr, dfor_data, c='g', label='Straightforward \"for\"-method', marker = '3')\n",
    "plt.xlabel('Размер матрицы')\n",
    "plt.ylabel('Время выполнения, c')\n",
    "plt.yscale('linear')\n",
    "plt.grid(True)\n",
    "plt.legend()\n",
    "plt.show()"
   ]
  },
  {
   "cell_type": "code",
   "execution_count": 12,
   "id": "980e2e70",
   "metadata": {},
   "outputs": [],
   "source": [
    "n_arr_ext = np.arange(10, 400)\n",
    "np_data_ext = np.vectorize(lambda x: NumpyTime(x, 10))(n_arr_ext)"
   ]
  },
  {
   "cell_type": "code",
   "execution_count": 14,
   "id": "c7a626b1",
   "metadata": {},
   "outputs": [
    {
     "data": {
      "image/png": "[encoded data removed]",
      "text/plain": [
       "<Figure size 1080x720 with 1 Axes>"
      ]
     },
     "metadata": {
      "needs_background": "light"
     },
     "output_type": "display_data"
    }
   ],
   "source": [
    "plt.figure(figsize=(15, 10))\n",
    "plt.title('Время выполнения')\n",
    "plt.scatter(n_arr_ext, np_data_ext, c='r', label='NumPy', marker = '1')\n",
    "plt.scatter(n_arr, sfor_data, c='b', label='Smart \"for\"-method', marker = '2')\n",
    "plt.xlabel('Размер матрицы')\n",
    "plt.ylabel('Время выполнения, c')\n",
    "plt.yscale('linear')\n",
    "plt.grid(True)\n",
    "plt.ylim(0, 0.015)\n",
    "plt.legend()\n",
    "plt.show()"
   ]
  },
  {
   "cell_type": "code",
   "execution_count": null,
   "id": "ebf2f8cc",
   "metadata": {},
   "outputs": [],
   "source": []
  }
 ],
 "metadata": {
  "kernelspec": {
   "display_name": "Python 3",
   "language": "python",
   "name": "python3"
  },
  "language_info": {
   "codemirror_mode": {
    "name": "ipython",
    "version": 3
   },
   "file_extension": ".py",
   "mimetype": "text/x-python",
   "name": "python",
   "nbconvert_exporter": "python",
   "pygments_lexer": "ipython3",
   "version": "3.8.8"
  }
 },
 "nbformat": 4,
 "nbformat_minor": 5
}
