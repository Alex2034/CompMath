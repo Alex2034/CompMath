{
 "cells": [
  {
   "cell_type": "code",
   "execution_count": 1,
   "metadata": {},
   "outputs": [],
   "source": [
    "import numpy as np\n",
    "import matplotlib.pyplot as plt\n",
    "from scipy import linalg"
   ]
  },
  {
   "cell_type": "markdown",
   "metadata": {},
   "source": [
    "Уравнение конвекции-диффузии методом аналогичным семинару, используя в т.ч. метод переменных направлений.\n",
    "$$\n",
    "u_t + \\lambda_1 u_x + \\lambda_2 u_y = \\kappa (u_{xx} + u_{yy}) + f(x,y)\n",
    "$$\n",
    "\n",
    "Используем метод переменных направлени и метод прогонки:\n",
    "\n",
    "Сначала со \"скоростью потока\"\n",
    "$$\n",
    "u_t = -\\lambda_1 u_x - \\lambda_2 u_y + f(x,y)\n",
    "$$\n",
    "$$\n",
    "\\frac{u_{i,j}^{k+1/2}-u_{i,j}^{k}}{\\tau} = -\\lambda_1 \\frac{u_{i+1,j}^{k}-u_{i-1,j}^{k}}{2h} - \\lambda_2 \\frac{u_{i,j+1}^{k}-u_{i,j-1}^{k}}{2h} - \\lambda_1^2\\tau \\dfrac{u_{i+1,j}^{k}-2u_{i,j}^{k}+u_{i-1,j}^{k}}{h^2} - \\lambda_2^2\\tau \\dfrac{u_{i,j+1}^{k}-2u_{i,j}^{k}+u_{i,j-1}^{k}}{h^2} + f_{i,j}\n",
    "$$\n",
    "\n",
    "\n",
    "Потом с лапласианом\n",
    "$$\n",
    "u_t = \\kappa (u_{xx} + u_{yy})\n",
    "$$\n",
    "\n",
    "i)$$\n",
    "\\frac{u_{i,j}^{k+3/4}-u_{i,j}^{k+1/2}}{\\tau/2} = \\kappa\\left(\n",
    "\\dfrac{u_{i+1,j}^{k+3/4}-2u_{i,j}^{k+3/4}+u_{i-1,j}^{k+3/4}}{h^2} + \n",
    "\\dfrac{u_{i,j+1}^{k+1/2}-2u_{i,j}^{k+1/2}+u_{i,j-1}^{k+1/2}}{h^2}\n",
    "\\right)\n",
    "$$\n",
    "\n",
    "$$\n",
    "A_i u_{i-1,j}^{k+3/4} + B_i u_{i,j}^{k+3/4} + C_i u_{i+1,j}^{k+3/4} = D_i\n",
    "$$\n",
    "\n",
    "$$\n",
    "A_i = C_i = -\\dfrac{\\kappa \\tau}{2h^2},\\quad B_i = 1+\\dfrac{\\kappa\\tau}{h^2},\\quad D_i = u_{i,j}^{k+1/2} + \\dfrac{\\kappa \\tau}{2h^2}\\cdot (u_{i,j+1}^{k+1/2}-2u_{i,j}^{k+1/2}+u_{i,j-1}^{k+1/2})\n",
    "$$\n",
    "\n",
    "ii)$$\n",
    "\\frac{u_{i,j}^{k+1}-u_{i,j}^{k+3/4}}{\\tau/2} = \\kappa\\left(\n",
    "\\dfrac{u_{i+1,j}^{k+3/4}-2u_{i,j}^{k+3/4}+u_{i-1,j}^{k+3/4}}{h^2} + \n",
    "\\dfrac{u_{i,j+1}^{k+1}-2u_{i,j}^{k+1}+u_{i,j-1}^{k+1}}{h^2}\n",
    "\\right)\n",
    "$$"
   ]
  },
  {
   "cell_type": "code",
   "execution_count": 2,
   "metadata": {},
   "outputs": [],
   "source": [
    "def solve(f, h, dt, bc=(lambda mat: mat), u0=0, l1=1, l2=1, k=1, steps=100):\n",
    "    \n",
    "    if type(u0) == int:\n",
    "        u0 = np.zeros(f.shape)\n",
    "    u = np.copy(u0)\n",
    "    fij = f[1:-1,1:-1]\n",
    "    \n",
    "    sol = []\n",
    "    sol.append(np.copy(u))\n",
    "    for i in range(steps):  \n",
    "        # Step 1\n",
    "        u_ip_j = u[1:-1,2:]\n",
    "        u_im_j = u[1:-1,:-2]\n",
    "        u_i_jp = u[2:,1:-1]\n",
    "        u_i_jm = u[:-2,1:-1]\n",
    "        u_i_j= u[1:-1,1:-1]\n",
    "        \n",
    "        u_kp = u_i_j + dt/2*( fij - l1 * (u_ip_j - u_im_j) / (2*h) - l2 * (u_i_jp - u_i_jm) / (2*h) -\n",
    "                              l1*l1*dt/2 * (u_ip_j - 2*u_i_j + u_im_j) / (h*h) - \n",
    "                              l2*l2*dt/2 * (u_i_jp - 2*u_i_j + u_i_jm) / (h*h) )\n",
    "        u[1:-1,1:-1] = u_kp\n",
    "        u = bc(u)\n",
    "        \n",
    "        p = k*dt/4/(h*h)\n",
    "        \n",
    "        u_i_jp = u[2:,1:-1]\n",
    "        u_i_jm = u[:-2,1:-1]\n",
    "        u_i_j= u[1:-1,1:-1]\n",
    "        \n",
    "        D = u_i_j + p*(u_i_jp - 2*u_i_j + u_i_jm)\n",
    "        ui = []\n",
    "        ab = np.ones((3, u_i_j.shape[0])) * np.array([[-p],[1+2*p],[-p]])\n",
    "        for d in D:\n",
    "            ui.append(linalg.solve_banded((1,1), ab, d))\n",
    "        \n",
    "        u[1:-1,1:-1] = np.array(ui)\n",
    "        u = bc(u)\n",
    "        \n",
    "        u_ip_j = u[1:-1,2:]\n",
    "        u_im_j = u[1:-1,:-2]\n",
    "        u_i_j= u[1:-1,1:-1]\n",
    "        \n",
    "        D = u_i_j + p*(u_ip_j - 2*u_i_j + u_im_j)\n",
    "        uj = []\n",
    "        ab = np.ones((3, u_i_j.shape[0])) * np.array([[-p],[1+2*p],[-p]])\n",
    "        for d in D:\n",
    "            uj.append(linalg.solve_banded((1,1), ab, d))\n",
    "        \n",
    "        u[1:-1,1:-1] = np.array(uj).T\n",
    "        u = bc(u)\n",
    "                      \n",
    "        sol.append(np.copy(u))\n",
    "    \n",
    "    return np.array(sol)"
   ]
  },
  {
   "cell_type": "code",
   "execution_count": 33,
   "metadata": {},
   "outputs": [],
   "source": [
    "x_min = -1.\n",
    "x_max = 1.\n",
    "nx = 100\n",
    "y_min = -1.\n",
    "y_max = 1.\n",
    "ny = 100\n",
    "h = (x_max - x_min)/nx"
   ]
  },
  {
   "cell_type": "code",
   "execution_count": 23,
   "metadata": {},
   "outputs": [],
   "source": [
    "x = np.linspace(x_min, x_max, nx)\n",
    "y = np.linspace(y_min, y_max, ny)\n",
    "xg, yg = np.meshgrid(x,y)\n",
    "f=2*np.exp(- 3*((xg+0.5)**2 + (yg+0.5)**2))"
   ]
  },
  {
   "cell_type": "code",
   "execution_count": 24,
   "metadata": {},
   "outputs": [
    {
     "data": {
      "image/png": "[encoded data removed]",
      "text/plain": [
       "<Figure size 432x288 with 2 Axes>"
      ]
     },
     "metadata": {
      "needs_background": "light"
     },
     "output_type": "display_data"
    }
   ],
   "source": [
    "fig = plt.figure()\n",
    "plt.contourf(x,y,f, cmap=plt.cm.inferno)\n",
    "plt.colorbar()\n",
    "plt.show()"
   ]
  },
  {
   "cell_type": "code",
   "execution_count": 25,
   "metadata": {},
   "outputs": [],
   "source": [
    "sol = solve(f, h, 0.001, l1=10, l2=5, steps=1000)"
   ]
  },
  {
   "cell_type": "code",
   "execution_count": 26,
   "metadata": {},
   "outputs": [
    {
     "data": {
      "image/png": "[encoded data removed]",
      "text/plain": [
       "<Figure size 432x288 with 2 Axes>"
      ]
     },
     "metadata": {
      "needs_background": "light"
     },
     "output_type": "display_data"
    }
   ],
   "source": [
    "fig = plt.figure()\n",
    "plt.contourf(x,y,sol[1000,:,:], cmap=plt.cm.inferno)\n",
    "plt.colorbar()\n",
    "plt.show()"
   ]
  },
  {
   "cell_type": "markdown",
   "metadata": {},
   "source": [
    "Унесло."
   ]
  },
  {
   "cell_type": "code",
   "execution_count": 31,
   "metadata": {},
   "outputs": [],
   "source": [
    "sol2 = solve(f, h, 0.01, l1=0, l2=0, steps=5000)"
   ]
  },
  {
   "cell_type": "code",
   "execution_count": 32,
   "metadata": {},
   "outputs": [
    {
     "data": {
      "image/png": "[encoded data removed]",
      "text/plain": [
       "<Figure size 432x288 with 2 Axes>"
      ]
     },
     "metadata": {
      "needs_background": "light"
     },
     "output_type": "display_data"
    }
   ],
   "source": [
    "fig = plt.figure()\n",
    "plt.contourf(x,y,sol2[5000,:,:], cmap=plt.cm.inferno)\n",
    "plt.colorbar()\n",
    "plt.show()"
   ]
  },
  {
   "cell_type": "markdown",
   "metadata": {},
   "source": [
    "При нулевой \"скорости потока\" действительно сходится к решению Пуассона"
   ]
  },
  {
   "cell_type": "markdown",
   "metadata": {},
   "source": [
    "(как и предыдущее наше параболическое, собственно)"
   ]
  }
 ],
 "metadata": {
  "kernelspec": {
   "display_name": "Python 3",
   "language": "python",
   "name": "python3"
  },
  "language_info": {
   "codemirror_mode": {
    "name": "ipython",
    "version": 3
   },
   "file_extension": ".py",
   "mimetype": "text/x-python",
   "name": "python",
   "nbconvert_exporter": "python",
   "pygments_lexer": "ipython3",
   "version": "3.7.4"
  }
 },
 "nbformat": 4,
 "nbformat_minor": 5
}
