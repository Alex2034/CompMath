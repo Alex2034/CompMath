{
 "cells": [
  {
   "cell_type": "markdown",
   "metadata": {
    "id": "jw9U30tqJtw7"
   },
   "source": [
    "# Задание 1. Метод линейной интерполяции."
   ]
  },
  {
   "cell_type": "markdown",
   "metadata": {
    "id": "siH0bugsJwt9"
   },
   "source": [
    "## Описание метода."
   ]
  },
  {
   "cell_type": "markdown",
   "metadata": {
    "id": "enFqtxbXK92M"
   },
   "source": [
    "Рассмотрим смешанную краевую задачу для уравнения\n",
    "\n",
    " $y^{\\prime \\prime}+p(x) y^{\\prime}+q(x) y+f(x)=0, \\quad 0<x<l .$\n",
    "\n",
    "\n",
    "Граничные условия возьмем в виде\n",
    "\n",
    "$$\n",
    "\\begin{gathered}\n",
    "y(0)=a, \\\\\n",
    "y^{\\prime}(l)+\\alpha y(l)=b .\n",
    "\\end{gathered}\n",
    "$$  \n",
    "\n",
    "Выберем любые два значения $\\lambda=\\lambda_{1}, \\lambda=\\lambda_{2}$ и решим две задачи Коши с начальными условиями:\n",
    "\n",
    "$$\n",
    "\\begin{aligned}\n",
    "&y_{1}(0)=a, y_{1}^{\\prime}(0)=\\lambda_{1} \\\\\n",
    "&y_{2}(0)=a, y_{2}^{\\prime}(0)=\\lambda_{2}\n",
    "\\end{aligned}\n",
    "$$\n",
    "\n",
    "Полученные решения обозначим как $y=y_{1}(x)$ и $y=y_{2}(x)$. Найдем соответствующие значения левых частей в граничном условии.  \n",
    "\n",
    "\\begin{aligned}\n",
    "&y_{1}^{\\prime}(l)+\\alpha y_{1}(l)=b_{1} \\\\\n",
    "&y_{2}^{\\prime}(l)+\\alpha y_{2}(l)=b_{2}\n",
    "\\end{aligned}\n",
    "\n",
    "Теперь значение недостающего начального условия $y^{\\prime}(0)=\\lambda$ можно найти с помощью линейной интерполяции:\n",
    "\n",
    "$$\n",
    "\\frac{\\lambda-\\lambda_{1}}{\\lambda_{2}-\\lambda_{1}}=\\frac{b-b_{1}}{b_{2}-b_{1}} \\text {, T.e. } \\lambda=\\lambda_{1}+\\left(\\lambda_{2}-\\lambda_{1}\\right) \\frac{b-b_{1}}{b_{2}-b_{1}} .\n",
    "$$\n",
    "\n",
    "Полученное значение $\\lambda$ и будет являться недостающим начальным условием. Объясняется это линейностью задачи. Как известно, дифференциальное уравнение имеет общее решение\n",
    "\n",
    "$$\n",
    "y(x)=c_{1} u_{1}(x)+c_{2} u_{2}(x)+y_{n}(x),\n",
    "$$\n",
    "\n",
    "где $u_{1}(x)$ и $u_{2}(x)$ - линейно-независимые решения однородного уравнения (при $f(x) \\equiv 0)$, а $y_{n}(x)$ - какое-либо решение неоднородного уравнения (частное решение неоднородного уравнения). Удовлетворяя левому граничному условию, в общем решении останется одна неизвестная постоянная, которая входит в выражение для $y(x)$ линейным образом. Проведя в плоскости $(\\lambda, b)$ прямую, проходящую через две точки $\\left(\\lambda_{1}, b_{1}\\right)$ и $\\left(\\lambda_{2}, b_{2}\\right)$ при заданном значении $b$ мы однозначно найдем точное значение $\\lambda$.  \n",
    "\n",
    "Теперь таблицу значений функции $y(x)$ (и ее производной) можно найти интерполяцией $y(x)=y_{1}(x)+\\left[y_{1}(x)-y_{1}(x)\\right] \\cdot \\frac{\\lambda-\\lambda_{1}}{\\lambda_{2}-\\lambda_{1}}$.\n",
    "\n",
    "Однако на практике, жертвуя машинным временем, обычно проводят третий расчет задачи Коши с условиями\n",
    "$$\n",
    "y(0)=a, \\quad y^{\\prime}(0)=\\lambda .\n",
    "$$  \n",
    "\n",
    "Замечание.\n",
    "\n",
    " На практике обычно выбирают простейшие значения $\\lambda$, например $\\lambda_{1}=1$ и $\\lambda_{2}=0$. При этом, если само уравнение является однородным, т.е. $f(x) \\equiv 0$, и граничное условие так же однородное, $y(0)=0$, то решение имеет вид $y_{2}(x) \\equiv 0, b_{2}=0$. Тогда второй расчет (при $\\lambda_{2}=0$ ) нет необходимости производить и формула даст ответ в виде\n",
    "\n",
    "$$\n",
    "\\lambda=\\lambda_{1} \\frac{b}{b_{1}} .\n",
    "$$\n",
    "\n",
    "Поэтому, если предложено решить однородное уравнение, то следует посмотреть, есть ли однородное граничное условие и если оно есть, то начинать расчет следует от этой границы! Эта рекомендация остается в силе и для других методов решения краевых задач.\n",
    "\n"
   ]
  },
  {
   "cell_type": "markdown",
   "metadata": {
    "id": "kI_tX1ANMdd0"
   },
   "source": [
    "## Задание."
   ]
  },
  {
   "cell_type": "markdown",
   "metadata": {
    "id": "OF8xr6-9MYfW"
   },
   "source": [
    "Решить краевую задачу:\n",
    "\n",
    "$$\n",
    "\\begin{aligned}\n",
    "&y^{\\prime \\prime}+(1-4 x) y^{\\prime}+8 y=5, \\quad 0<x<1 \\\\\n",
    "&y^{\\prime}(0)-y(0)=0 ; \\quad y(1)=0\n",
    "\\end{aligned}\n",
    "$$ \n"
   ]
  },
  {
   "cell_type": "code",
   "execution_count": 23,
   "metadata": {},
   "outputs": [
    {
     "data": {
      "image/png": "[encoded data removed]",
      "text/plain": [
       "<Figure size 432x288 with 1 Axes>"
      ]
     },
     "metadata": {
      "needs_background": "light"
     },
     "output_type": "display_data"
    }
   ],
   "source": [
    "import numpy as np\n",
    "from scipy.integrate import solve_ivp\n",
    "from matplotlib import pyplot as plt\n",
    "\n",
    "def f(x, y):\n",
    "    return y[1], 5 - 8 * y[0] - y[1] * (1 - 4 * x) \n",
    "\n",
    "so1 = solve_ivp(f, [0., 1.], [0., 0.], t_eval=[1.])\n",
    "sol2 = solve_ivp(f, [0., 1.], [1., 1.], t_eval=[1.])\n",
    "\n",
    "b1, b2 = so1.y[0, -1], sol2.y[0, -1]\n",
    "l = 0 + (1-0)*(0-b1)/(b2-b1)\n",
    "\n",
    "steps = 100\n",
    "u0 = np.array([l, l], dtype=float)\n",
    "sol = solve_ivp(f, [0., 1.], u0, t_eval=np.linspace(0,1,steps))\n",
    "\n",
    "plt.plot(sol.t, sol.y[0,:], 'r--', label=\"y(x)\")\n",
    "plt.legend(loc='best')\n",
    "plt.grid(True)\n",
    "plt.show()"
   ]
  },
  {
   "cell_type": "markdown",
   "metadata": {
    "id": "SplkfO7vNUW7"
   },
   "source": [
    "# Задание 2. Метод дифференциальной прогонки.\n",
    "\n"
   ]
  },
  {
   "cell_type": "markdown",
   "metadata": {
    "id": "0FzfWpYbNYCb"
   },
   "source": [
    "## Описание метода.\n"
   ]
  },
  {
   "cell_type": "markdown",
   "metadata": {
    "id": "of8hJ807N_Wc"
   },
   "source": [
    "\n",
    "Суть метода прогонки заключается в следующем. Основываясь на\n",
    "форме граничного условия в начальной точке, выводится обыкновенное\n",
    "дифференциальное уравнение, порядок которого на единицу меньше порядка заданного дифференциального уравнения и коэффициенты которого включают неизвестные функции. Количество таких неизвестных функций равно порядку исходного уравнения. Если выведенное уравнение продифференцировать, то новое уравнение будет иметь тот же порядок, что и заданное. Приравнивая коэффициенты этих двух уравнений, получаем систему дифференциальных уравнений первого порядка, интегрированием которой можно получить неизвестные коэффициенты. В частности, решения в конечной точке совместно с граничными условиями в этой точке составляют полый набор уравнений для нахождения всех граничных значений. Этот этап называется прямой прогонкой. Зная полный набор граничных условий в конечной точке, исходное уравнение\n",
    "можно проинтегрировать как задачу Коши от начальной до конечной\n",
    "точки. Таким образом удается избежать итераций.\n",
    "\n",
    "Рассмотрим граничную задачу, определяемую дифференциальным уравнением\n",
    "и граничными условиями\n",
    "\n",
    "$\\frac{d^{2} y}{d x^{2}}=p(x) y+q(x)$,\n",
    "\n",
    " $\\frac{d y(a)}{d x}=\\alpha_{00} y(a)+\\alpha_{10}$, \n",
    " \n",
    " $\\frac{d y(b)}{d x}=\\beta_{00} y(b)+\\beta_{10}$; \n",
    " \n",
    " $\\alpha_{00}, \\beta_{00}, \\alpha_{10}, \\beta_{10}-$ константы, \n",
    " \n",
    " где $p(x)$ и $q(x)$ - непрерывные функциий\n",
    "\n",
    "Рассмотрим линейное дифференциальное уравнение первого порядка\n",
    "$$\n",
    "\\frac{d y}{d x}=\\alpha_{0}(x) y(x)+\\alpha_{1}(x),\n",
    "$$\n",
    "и выберем $\\alpha_{0}(x)$ и $\\alpha_{1}(x)$ так, чтобы $y(x)$ удовлетворяло уравнению. Продифференцировав последнее по $x$, получим\n",
    "\n",
    "$$\n",
    "\\frac{d^{2} y}{d x^{2}}=\\left(d \\alpha_{0} / d x\\right) y+d \\alpha_{1} / d x+\\alpha_{0} d y / d x .\n",
    "$$\n",
    "\n",
    "Заменив здесь $d y / d x$ выражением, стоящим в правой части, получим\n",
    "\n",
    "$$\n",
    "\\frac{d^{2} y}{d x^{2}}=\\left(d \\alpha_{0} / d x+\\alpha_{0}^{2}\\right) y+d \\alpha_{1} / d x+\\alpha_{0} \\alpha_{1} .\n",
    "$$\n",
    "\n",
    "Из сравнения с исходным уравнением получаем следующие уравнения:  \n",
    "\n",
    "\\begin{gathered}\n",
    "d \\alpha_{0}(x) / d x+\\alpha_{0}^{2}=p(x) \\\\\n",
    "d \\alpha_{1}(x) / d x+\\alpha_{0}(x) \\alpha_{1}(x)=q(x)\n",
    "\\end{gathered}\n",
    "\n",
    "В качестве первого шага проинтегрируем на отрезке $a<x<b$ эти два уравнения  как задачу Коши, приняв в качестве начальных значений\n",
    "\n",
    "$$\n",
    "\\alpha_{0}(a)=\\alpha_{00}, \\quad \\alpha_{1}(a)=\\alpha_{10},\n",
    "$$\n",
    "\n",
    "получим значения $\\alpha_{0}(b)$ и $\\alpha_{1}(b)$. Подставив найденные значения в дифференциальное уравнение первого порядка, получим \n",
    "\n",
    "$$ d y(b) / d x=\\alpha_{0}(b) y(b)+\\alpha_{1}(b) . $$\n",
    "\n",
    "С другой стороны, второе граничное условие исходного уравнения при $x=b$ дает\n",
    "\n",
    "$$ d y(b) / d x=\\beta_{00} y(b)+\\beta_{10} $$ \n",
    "\n",
    "\n",
    "Так как теперь $\\alpha_{0}(b)$ и $\\alpha_{1}(b)-$ известные величины, уравнения первого порядка на альфа можно разрешить относительно $y(b)$ и $d y(b) / d x$ и получить\n",
    "\n",
    "\\begin{gathered}\n",
    "y(b)=\\left[\\beta_{10}-\\alpha_{1}(b)\\right] /\\left[\\alpha_{0}(b)-\\beta_{00}\\right] \\\\\n",
    "d y(b) / d x=\\left[\\beta_{00} \\alpha_{1}(b)-\\beta_{10} \\alpha_{0}(b)\\right] /\\left[\\beta_{00}-\\alpha_{0}(b)\\right]\n",
    "\\end{gathered}  \n",
    "\n",
    "\n",
    "\n",
    "Теперь задачу Коши, определяемую исходным уравнением и этими последними и начальными условиями можно проинтегрировать назад от $x=b$. Другая возможность заключается в том, чтобы проинтегрировать дифференциальное уравнение первого порядка, используя предпоследнее выражение в качестве начального условия.  \n",
    "\n",
    "\n",
    "\n"
   ]
  },
  {
   "cell_type": "markdown",
   "metadata": {
    "id": "eI0McppUPvoj"
   },
   "source": [
    " ## Задание."
   ]
  },
  {
   "cell_type": "markdown",
   "metadata": {
    "id": "vzTz-UzzPy9y"
   },
   "source": [
    "Рассмотрим решение следующей граничной задачи\n",
    "\n",
    "$$\n",
    "\\begin{gathered}\n",
    "d^{2} y / d x^{2}=-y+x \\cos x \\\\\n",
    "\\\\\n",
    "d y(0) / d x=3 y(0)+2, \\quad d y(\\pi / 2) / d x=-5 y(\\pi / 2)+2 .\n",
    "\\end{gathered}\n",
    "$$\n",
    "\n",
    "Известно точное решение этой задачи\n",
    "\n",
    "\n",
    "$$\n",
    "y=-0.73 \\cos x-0.441 \\sin x+(1 / 4)\\left(x^{2} \\sin x+x \\cos x\\right),\n",
    "$$\n",
    "\n",
    "\n",
    "откуда\n",
    "\n",
    "\n",
    "$$\n",
    "y(\\pi / 2)=0.175 \\text { и } d y(\\pi / 2) / d x=1.122 .\n",
    "$$\n",
    "\n",
    "\n",
    "Найдите эти граничные значения, решая задачу методом дифференциальной прогонки. "
   ]
  },
  {
   "cell_type": "markdown",
   "metadata": {},
   "source": [
    "Применяя метод к данному уравнению, получим:\n",
    "\n",
    "$$\n",
    "\\frac{d \\alpha_{0}}{d x}+\\alpha_{0}^{2}=-1, \\qquad \\frac{d \\alpha_{1}}{d x}+\\alpha_{0}(x)  \\alpha_{1}=x\\cos (x)\\\\\n",
    "$$\n",
    "$$\n",
    "\\alpha_{00} = 3, \\quad\n",
    "\\alpha_{10} = 2, \\quad\n",
    "\\beta_{00} = -5, \\quad\n",
    "\\beta_{10} = 2\n",
    "$$\n",
    "Тогда код можно написать такой"
   ]
  },
  {
   "cell_type": "code",
   "execution_count": 26,
   "metadata": {},
   "outputs": [
    {
     "name": "stdout",
     "output_type": "stream",
     "text": [
      "y(pi/2) = 0.175,  y'(pi/2) = 1.123;\n"
     ]
    }
   ],
   "source": [
    "def f(t, y):\n",
    "    return -1 - y[0]**2, t * np.cos(t) - y[0] * y[1]\n",
    "\n",
    "sol = solve_ivp(f,[0, np.pi/2], np.array([3, 2]), t_eval = [np.pi/2])\n",
    "alpha_0 = sol.y[0,-1]\n",
    "alpha_1 = sol.y[1,-1]\n",
    "beta_0 = -5\n",
    "beta_1 = 2\n",
    "\n",
    "y_p2 = (beta_1 - alpha_1) / (alpha_0 - beta_0)\n",
    "yp_p2 = (beta_0*alpha_1 - beta_1*alpha_0) / (beta_0 - alpha_0)\n",
    "print(\"y(pi/2) = {:.3f},  y\\'(pi/2) = {:.3f};\".format(y_p2, yp_p2))"
   ]
  },
  {
   "cell_type": "markdown",
   "metadata": {
    "id": "eFTJ5BnniEWT"
   },
   "source": [
    "# Задача 3.  Метод Ньютона для непрерывного случая."
   ]
  },
  {
   "cell_type": "markdown",
   "metadata": {
    "id": "q6_FyQB1iKSB"
   },
   "source": [
    "## Описание метода Ньютона.\n"
   ]
  },
  {
   "cell_type": "markdown",
   "metadata": {
    "id": "1DQST5DZiQ2a"
   },
   "source": [
    "Рассмотрим краевую задачу, определяемую дифференциальным уравнением второго порядка и граничными условиями\n",
    "\n",
    "\n",
    "$\\begin{array}{lc}y(0)=0 &  \\\\ y(l)=A &  \\\\ \\text { в виде системы двух дифференциальных }\\end{array}$\n",
    "\n",
    " $$ \\left\\{\\begin{array}{l}d y / d x=u, \\\\ d u / d x=f(x, y, u) .\\end{array}\\right. $$\n",
    "\n",
    "\n",
    "Обозначим недостающее начальное значение производной через $s$ :\n",
    "$$\n",
    "d y(0) / d x=u(0)=s .\n",
    "$$\n",
    "Задача заключается в том, чтобы найти такое значение $s$, при котором решение задачи Коши с такими начальными удовлетворяет правому граничному условию. Иначе говоря, если решение задачи Коши обозначить через $y(x, s)$ и $u(x, s)$, то требуется найти такое значение $s$, что\n",
    "$$\n",
    "y(l, s)-A=\\varphi(s)=0 .\n",
    "$$\n",
    "\n",
    "В методе Ньютона итерационная формула для $s$ задается в виде\n",
    "\n",
    "$$\n",
    "s^{(n+1)}=s^{(n)}-\\frac{\\varphi\\left(s^{(n)}\\right)}{d \\varphi\\left(s^{(n)}\\right) / d s}\n",
    "$$\n",
    "\n",
    "Или\n",
    "\n",
    "$$\n",
    "s^{(n+1)}=s^{(n)}-\\frac{y\\left(l, s^{(n)}\\right)-A}{\\partial y\\left(l, s^{(n)}\\right) / \\partial s}\n",
    "$$ \n",
    "\n",
    "Чтобы найти производную $y$ по $s$, продифференцируем систему по $s$ и получим \n",
    "\n",
    "\\begin{gathered}\n",
    "d Y / d x=U, \\quad d U / d x=(\\partial f / \\partial y) Y+(\\partial f / \\partial u) U \\\\\n",
    "Y(0)=0, \\quad U(0)=1 \\\\\n",
    "Y=\\partial y / \\partial s, \\quad U=\\partial u / \\partial s\n",
    "\\end{gathered}\n",
    "\n",
    "Итак, получаем алгоритм действий.\n",
    "\n",
    "1. Выбирается значение $s$ для недостающего начального значения производной. Это приближенное значение $s$ обозначается через $s^{(1)}$.\n",
    "2. Интегрируется задача Коши  от $x=0$ до $x=l$.\n",
    "3. Интегрируются уравнения с Y и U от $x=0$ до $x=l$.\n",
    "4. Значения $y\\left(l, s^{(1)}\\right)$ и $Y\\left(l, s^{(1)}\\right)$, подставляются в формулу для $s^{(2)}$, что дает\n",
    "\n",
    "$$\n",
    "s^{(2)}=s^{(1)}-\\left[y\\left(l, s^{(1)}\\right)-A\\right] / Y\\left(l, s^{(1)}\\right),\n",
    "$$\n",
    "\n",
    "следующее приближение $s^{(2)}$ для недостающего начального значения производной.\n",
    "5. Шаги $2-4$ повторяются до тех пор, пока величина $s$ не будет найдена с заданной точностью.  \n",
    " "
   ]
  },
  {
   "cell_type": "markdown",
   "metadata": {
    "id": "BvUfZOpuiUmC"
   },
   "source": [
    "## Задание."
   ]
  },
  {
   "cell_type": "markdown",
   "metadata": {
    "id": "TXtB_IUhiZ6F"
   },
   "source": [
    "\n",
    "Напишите программу, которая решает нелинейное уравнение Пуассона:\n",
    "\n",
    "\n",
    "$$\n",
    "\\phi^{\\prime \\prime}(x)=e^{\\phi(x)}-n(x), \\quad \\text { где } n(x)=1+e^{-3(x-5)^{2}}  \n",
    "$$\n",
    "\n",
    "\n",
    "в области $0<=x<=10$ с граничными условиями $\\phi(0)=\\phi(10)=0 .$\n",
    "\n"
   ]
  },
  {
   "cell_type": "code",
   "execution_count": 39,
   "metadata": {},
   "outputs": [],
   "source": [
    "from scipy.optimize import newton\n",
    "def poisson(s, l, h):\n",
    "    n_steps = int(l / h)\n",
    "    \n",
    "    xs = np.arange(n_steps+1)*h\n",
    "    v = np.zeros(n_steps+1)\n",
    "    U = np.zeros(n_steps+1)\n",
    "    u = np.zeros(n_steps+1)\n",
    "    V = np.zeros(n_steps+1)\n",
    "    u[0] =0; v[0] = s; U[0] = 0; V[0] = 1\n",
    "    \n",
    "    for i in range(n_steps):\n",
    "        u[i+1] = u[i] + v[i] * h\n",
    "        v[i+1] = v[i] + h * (np.e**u[i] - (1 + np.e**(-3 * (i * h - 5)**2)))\n",
    "        U[i+1] = U[i] + h * V[i]\n",
    "        V[i+1] = V[i] + h * U[i] * np.e**u[i]\n",
    "        \n",
    "    return xs, u, v, U, V\n",
    "\n",
    "def f(s):\n",
    "    l = 10; h = 0.1\n",
    "    return poisson(s, l, h)[1][int(l / h)]\n",
    "\n",
    "def f_prime(s):\n",
    "    l = 10; h = 0.1\n",
    "    return poisson(s, l, h)[3][int(l / h)]"
   ]
  },
  {
   "cell_type": "code",
   "execution_count": 42,
   "metadata": {},
   "outputs": [
    {
     "data": {
      "image/png": "[encoded data removed]",
      "text/plain": [
       "<Figure size 432x288 with 1 Axes>"
      ]
     },
     "metadata": {
      "needs_background": "light"
     },
     "output_type": "display_data"
    }
   ],
   "source": [
    "s0 = newton(f, 0.0075, fprime=f_prime, tol=1e-5, full_output=True)\n",
    "xs, u, *_ = poisson(s0[0], 10, 0.1)\n",
    "\n",
    "plt.plot(xs, u, 'r--', label=\"y(x)\")\n",
    "plt.legend(loc='best')\n",
    "plt.grid(True)\n",
    "plt.show()"
   ]
  },
  {
   "cell_type": "markdown",
   "metadata": {
    "id": "_VKH1Z-DzrRZ"
   },
   "source": [
    "# Задача 4.  Метод Ньютона в конечно-разностном случае."
   ]
  },
  {
   "cell_type": "markdown",
   "metadata": {
    "id": "7go_9Tjr4B5A"
   },
   "source": [
    "\n",
    "Напишите программу, которая решает нелинейное уравнение Пуассона:\n",
    "\n",
    "\n",
    "$$\n",
    "\\phi^{\\prime \\prime}(x)=e^{\\phi(x)}-n(x), \\quad \\text { где } n(x)=1+e^{-3(x-5)^{2}}  \n",
    "$$\n",
    "\n",
    "\n",
    "в области $0<=x<=10$ с граничными условиями $\\phi(0)=\\phi(10)=0 .$\n",
    "\n",
    "Используйте решение методом Ньютона системы разностных уравнений. Для этого дискретизуйте дифференциальное уравнение на равномерную решётку $x_{j=1, \\ldots, N-1}$, так что значения потенциала в точках $x_{0}=0$ и $x_{N}=10$ зафиксированы граничными условиями, а внутри определяются дискретной версией исходного дифференциального уравнения: $G_{1}=0, G_{2}=0, \\ldots, G_{N-1}=0$, где\n",
    "\n",
    "$$\n",
    "G_{j}=\\frac{\\phi_{j+1}-2 \\phi_{j}+\\phi_{j-1}}{\\delta x^{2}}-e^{\\phi_{j}}+n\\left(x_{j}\\right)=0\n",
    "$$\n",
    "\n",
    "Используйте метод Ньютона (можно написать самостоятельно, можно использовать scipy) для того, чтобы найти решение этой системы. Сколько итераций нужно, чтобы получить решение с $10ю$ значащими цифрами?"
   ]
  },
  {
   "cell_type": "markdown",
   "metadata": {
    "id": "fuXfppEg5DLd"
   },
   "source": [
    "# Задача 5. Метод квазилинеаризации."
   ]
  },
  {
   "cell_type": "markdown",
   "metadata": {
    "id": "Uxe2mm8d6D0W"
   },
   "source": [
    "## Описание метода."
   ]
  },
  {
   "cell_type": "markdown",
   "metadata": {
    "id": "tEK4Pfho5H0E"
   },
   "source": [
    "Рассмотрим нелинейное дифференциальное уравнение второго порядка\n",
    "\n",
    "$$\n",
    "\\begin{gathered}\n",
    "y^{\\prime \\prime}=f\\left(x, y, y^{\\prime}\\right) \\\\\n",
    "y(0)=0, \\quad y(L)=A,\n",
    "\\end{gathered}\n",
    "$$\n",
    "\n",
    "\n",
    "где символами $y^{\\prime}$ и $y^{\\prime \\prime}$ обозначены соответственно $d y / d x$ и $d^{2} y / d^{2} x$.\n",
    "Перепишем уравнение в виде\n",
    "\n",
    "$$\n",
    "\\varphi\\left(x, y, y^{\\prime}, y^{\\prime \\prime}\\right)=y^{\\prime \\prime}-f\\left(x, y, y^{\\prime}\\right)=0 .\n",
    "$$\n",
    "\n",
    "Чтобы получить рекуррентное соотношение, обозначим $n$ - ю и $(n+1)$ - ю итерации через $y_{n}$ и $y_{n+1}$ и потребуем, чтобы для итераций выполнялось условие $\\varphi=0$. Это позволяет написать для $n$ - й итерации\n",
    "$$\n",
    "y_{n}^{\\prime \\prime}-f\\left(x, y, y^{\\prime}\\right)=0 .\n",
    "$$  \n",
    "\n",
    "Для $(n+1)$ - й итерации получаем\n",
    "\n",
    "$$\n",
    "\\begin{aligned}\n",
    "\\varphi\\left(x_{n+1},\\right.&\\left.y_{n+1}, y_{n+1}^{\\prime}, y_{n+1}^{\\prime \\prime}\\right)=\\varphi\\left(x_{n}, y_{n}, y_{n}^{\\prime}, y_{n}^{\\prime \\prime}\\right)+\\\\\n",
    "&+(\\partial \\varphi / \\partial y)_{n}\\left(y_{n+1}-y_{n}\\right)+\\left(\\partial \\varphi / \\partial y^{\\prime}\\right)\\left(y_{n+1}^{\\prime}-y_{n}^{\\prime}\\right)+\\\\\n",
    "+&\\left(\\partial \\varphi / \\partial y^{\\prime \\prime}\\right)_{n}\\left(y_{n+1}^{\\prime \\prime}-y_{n}^{\\prime \\prime}\\right)+\\ldots=0\n",
    "\\end{aligned}\n",
    "$$  \n",
    "\n",
    "или\n",
    "\n",
    "$$\n",
    "-(\\partial f / \\partial y)_{n}\\left(y_{n+1}-y_{n}\\right)-\\left(\\partial f / \\partial y^{\\prime}\\right)_{n}\\left(y_{n+1}^{\\prime}-y_{n}^{\\prime}\\right)+y_{n+1}^{\\prime \\prime}-y_{n}^{\\prime \\prime}=0\n",
    "$$  \n",
    "\n",
    "В итоге получаем, что на каждом шаге итерации надо решать краевую задачу.\n",
    "\n",
    "\\begin{aligned}\n",
    "&y_{n+1}^{\\prime \\prime}-\\left(\\partial f / \\partial y^{\\prime}\\right)_{n} y_{n+1}^{\\prime}-(\\partial f / \\partial y)_{n} y_{n+1}= \\\\\n",
    "&=f\\left(x, y_{n}, y_{n}^{\\prime}\\right)-(\\partial f / \\partial y)_{n} y_{n}-\\left(\\partial f / \\partial y^{\\prime}\\right)_{n} y_{n}^{\\prime}\n",
    "\\end{aligned}  \n",
    "\n",
    "$$y_{n+1}(0)=0, \\quad y_{n+1}(L)=A$$  \n",
    "\n",
    "\n",
    "\n"
   ]
  },
  {
   "cell_type": "markdown",
   "metadata": {
    "id": "60cWfhh96KvW"
   },
   "source": [
    "##Задание."
   ]
  },
  {
   "cell_type": "markdown",
   "metadata": {
    "id": "7-Kit8_96MtN"
   },
   "source": [
    "\n",
    "Напишите программу, которая решает нелинейное уравнение Пуассона:\n",
    "\n",
    "\n",
    "$$\n",
    "\\phi^{\\prime \\prime}(x)=e^{\\phi(x)}-n(x), \\quad \\text { где } n(x)=1+e^{-3(x-5)^{2}}  \n",
    "$$\n",
    "\n",
    "\n",
    "в области $0<=x<=10$ с граничными условиями $\\phi(0)=\\phi(10)=0 .$\n",
    "\n",
    "\n",
    "Используйте описанный выше метод квазилинеаризации."
   ]
  }
 ],
 "metadata": {
  "colab": {
   "collapsed_sections": [
    "jw9U30tqJtw7",
    "siH0bugsJwt9",
    "SplkfO7vNUW7",
    "0FzfWpYbNYCb",
    "eI0McppUPvoj",
    "eFTJ5BnniEWT",
    "q6_FyQB1iKSB",
    "_VKH1Z-DzrRZ",
    "fuXfppEg5DLd",
    "Uxe2mm8d6D0W",
    "60cWfhh96KvW"
   ],
   "name": "D2  Решение краевых задач.ipynb",
   "provenance": []
  },
  "kernelspec": {
   "display_name": "Python 3",
   "language": "python",
   "name": "python3"
  },
  "language_info": {
   "codemirror_mode": {
    "name": "ipython",
    "version": 3
   },
   "file_extension": ".py",
   "mimetype": "text/x-python",
   "name": "python",
   "nbconvert_exporter": "python",
   "pygments_lexer": "ipython3",
   "version": "3.7.4"
  }
 },
 "nbformat": 4,
 "nbformat_minor": 1
}
