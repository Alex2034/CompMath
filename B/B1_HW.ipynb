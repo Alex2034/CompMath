{
 "cells": [
  {
   "cell_type": "code",
   "execution_count": 1,
   "metadata": {},
   "outputs": [],
   "source": [
    "import numpy as np\n",
    "from scipy import special\n",
    "from scipy import linalg\n",
    "from matplotlib import pyplot as plt"
   ]
  },
  {
   "cell_type": "markdown",
   "metadata": {
    "id": "MeXTSdSfKdL2"
   },
   "source": [
    "# Задача 1\n"
   ]
  },
  {
   "cell_type": "markdown",
   "metadata": {
    "id": "19smb2owQS40"
   },
   "source": [
    "Реализовать генератор матрциц, который должен поддерживать функции:\n",
    "* 1) Генерация абсолютно случайной матрицы $n\\times m$\n",
    "* 2) Генерация случайной диагональной матрицы $n\\times n$\n",
    "* 3) Генерация случайной верхнетреугольной матрицы\n",
    "* 4) Генерация случайной нижнетреугольной матрицы\n",
    "* 5) Генерация симметричной матрицы\n",
    "* 6) Генерация вырожденной матрицы\n",
    "* 7) Генерация матрицы ступенчатого вида $n\\times n$ ранга $m$\n",
    "* 8) Генерация возмущения матрицы $n\\times m$, каждый элемент которой не превосходит по модулю заданный $\\varepsilon$\n",
    "\n",
    "Оценить вероятность того, что созданная матрица будет вырожденной. \n",
    "\n",
    "Оценить величину нормы матрицы возмущений в зависимости от параметра $\\varepsilon$ (оценить верхную границу).\n"
   ]
  },
  {
   "cell_type": "code",
   "execution_count": 5,
   "metadata": {},
   "outputs": [],
   "source": [
    "LOWER = -10\n",
    "UPPER = 10"
   ]
  },
  {
   "cell_type": "code",
   "execution_count": 48,
   "metadata": {},
   "outputs": [],
   "source": [
    "# 1 \n",
    "def rand_mat(m, n, minn = LOWER, maxx = UPPER):\n",
    "    if n == 1:\n",
    "        return np.random.uniform(minn, maxx, (m)) \n",
    "    return np.random.uniform(minn, maxx, (m, n))\n",
    "    \n",
    "# 2\n",
    "def rand_diag(n, minn = LOWER, maxx = UPPER):\n",
    "    d = np.random.uniform(minn, maxx, n)\n",
    "    m = np.zeros((n,n))\n",
    "    np.fill_diagonal(m, d)\n",
    "    return m\n",
    "\n",
    "# 3\n",
    "def rand_upper_triang(n, minn = LOWER, maxx = UPPER):\n",
    "    m = np.random.uniform(minn, maxx, (n,n))\n",
    "    return np.triu(m) \n",
    "\n",
    "# 4\n",
    "def rand_lower_triang(n, minn = LOWER, maxx = UPPER):\n",
    "    m = np.random.uniform(minn, maxx, (n,n))\n",
    "    return np.triu(m).T \n",
    "\n",
    "# 5\n",
    "def rand_symm(n, minn = LOWER, maxx = UPPER):\n",
    "    m = rand_upper_triang(minn, maxx, n)\n",
    "    z = np.zeros((n,n))\n",
    "    np.fill_diagonal(z, np.diag(m))  \n",
    "    s = m + m.T - z\n",
    "    return s\n",
    "\n",
    "# 6\n",
    "def rand_sing(m, n, minn = LOWER, maxx = UPPER):\n",
    "    m = np.random.uniform(minn, maxx, (m, n))\n",
    "    m[0] = m[1]\n",
    "    return m\n",
    "\n",
    "# 7\n",
    "def rand_sing_echelon(n, rk, minn = LOWER, maxx = UPPER):\n",
    "    m = rand_upper_triang(minn, maxx, n)\n",
    "    m[rk:] = 0\n",
    "    return m\n",
    "\n",
    "# 8\n",
    "def rand_epsilon(m, n, eps):\n",
    "    if n == 1:\n",
    "        return np.random.uniform(-eps, eps, (m)) \n",
    "    return np.random.uniform(-eps, eps, (m, n))"
   ]
  },
  {
   "cell_type": "code",
   "execution_count": 18,
   "metadata": {},
   "outputs": [],
   "source": [
    "it = 10000\n",
    "epsilon = 10e-2\n",
    "dim = range(2, 10+1)\n",
    "count = 0\n",
    "prob_arr = []\n",
    "err = []\n",
    "for n in dim:\n",
    "    for i in range(it):\n",
    "        m = rand_mat(n, n)\n",
    "        if np.abs(np.linalg.det(m)) < epsilon: \n",
    "            count += 1\n",
    "    prob_arr.append(count/it)\n",
    "    err.append(np.sqrt(count)/it)\n",
    "    count = 0"
   ]
  },
  {
   "cell_type": "code",
   "execution_count": 19,
   "metadata": {},
   "outputs": [
    {
     "data": {
      "image/png": "[encoded data removed]",
      "text/plain": [
       "<Figure size 432x288 with 1 Axes>"
      ]
     },
     "metadata": {
      "needs_background": "light"
     },
     "output_type": "display_data"
    }
   ],
   "source": [
    "plt.errorbar(dim, prob_arr, yerr=err, c = 'r',fmt='o')\n",
    "plt.xlabel('Размерность матрицы')\n",
    "plt.ylabel('Вероятность вырождения (неполного ранга)')\n",
    "plt.show()"
   ]
  },
  {
   "cell_type": "markdown",
   "metadata": {
    "id": "sS3EHa1aKmJi"
   },
   "source": [
    "# Задача 2\n"
   ]
  },
  {
   "cell_type": "markdown",
   "metadata": {
    "id": "nMUUtmljQZO1"
   },
   "source": [
    "Используя ряд Маклорена, реализовать вычисление основных элементарных функций: \n",
    "* 1) Экспонента\n",
    "* 2) Натуральный логарифм\n",
    "* 3) Синус\n",
    "* 4) Косинус\n",
    "* 5) Тангенс\n",
    "* 6) Котангенс\n",
    "* 7) Арксинус\n",
    "* 8) Арккосинус\n",
    "* 9) Арктангенс\n",
    "* 10) Гиперболический синус \n",
    "* 11) Гиперболический косинус\n",
    "* 12) Гиперболический тангенс\n",
    "* 13) Гиперболический арктангенс\n",
    "\n",
    "Оценить величину машинного эпсилон. Предложить модификации для некоторых функций и сравнить полученные результаты."
   ]
  },
  {
   "cell_type": "code",
   "execution_count": 76,
   "metadata": {},
   "outputs": [
    {
     "name": "stdout",
     "output_type": "stream",
     "text": [
      "X =  -15 \n",
      "numpy: e^X =  3.059023205018258e-07 \n",
      "\n",
      "без модификации: e^X =  3.0590941973020066e-07 \n",
      "машинный эпсилон:  7.099228374875669e-12 \n",
      "\n",
      "c модификацией: e^X =  3.059023205018257e-07 \n",
      "машинный эпсилон:  1.0587911840678754e-22 \n",
      "\n"
     ]
    }
   ],
   "source": [
    "# 1\n",
    "def exp(x, mod = True):\n",
    "    \n",
    "    if not mod:\n",
    "        val = 0\n",
    "        term = 1\n",
    "        n = 1\n",
    "        while val != val + term:\n",
    "            val += term\n",
    "            term = term * x / n\n",
    "            n += 1\n",
    "        return val\n",
    "    \n",
    "    else:\n",
    "        if x < 0:\n",
    "            val = exp(-x, mod = False)\n",
    "            return 1/val\n",
    "        else:\n",
    "            return exp(x, mod = False)\n",
    "\n",
    "X = -15\n",
    "print('X = ', X, '\\nnumpy: e^X = ',np.exp(X),'\\n')\n",
    "print('без модификации: e^X = ', exp(X, mod=False), '\\nмашинный эпсилон: ', abs(exp(X, mod=False) - np.exp(X)), '\\n')\n",
    "print('c модификацией: e^X = ', exp(X, mod=True), '\\nмашинный эпсилон: ', abs(exp(X, mod=True) - np.exp(X)), '\\n')"
   ]
  },
  {
   "cell_type": "code",
   "execution_count": 77,
   "metadata": {},
   "outputs": [
    {
     "name": "stdout",
     "output_type": "stream",
     "text": [
      "X =  1.9999 \n",
      "numpy:\n",
      "lnX =  0.6930971793099037 \n",
      "\n",
      "my:\n",
      "lnX =  0.6930971793098952 \n",
      "машинный эпсилон:  8.43769498715119e-15 \n",
      "\n"
     ]
    }
   ],
   "source": [
    "# 2\n",
    "def ln(x):\n",
    "    term = x - 1\n",
    "    val = term\n",
    "    n = 2\n",
    "    while val != val + term:\n",
    "        term = - term * (x - 1) * (n - 1)/ n\n",
    "        n += 1\n",
    "        val += term\n",
    "    return val\n",
    "\n",
    "X = 1.9999\n",
    "print('X = ', X, '\\nnumpy:\\nlnX = ',np.log(X),'\\n')\n",
    "print('my:\\nlnX = ', ln(X), '\\nмашинный эпсилон: ', abs(ln(X) - np.log(X)), '\\n')"
   ]
  },
  {
   "cell_type": "code",
   "execution_count": 81,
   "metadata": {},
   "outputs": [
    {
     "name": "stdout",
     "output_type": "stream",
     "text": [
      "X =  31.415926 \n",
      "numpy:\n",
      "sinX =  -5.35897933476904e-07 \n",
      "\n",
      "my (unmodified):\n",
      "sinX =  -6.538335492923462e-05 \n",
      "машинный эпсилон:  6.484745699575772e-05 \n",
      "\n",
      "my (modified):\n",
      "sinX =  -5.358979291420759e-07 \n",
      "машинный эпсилон:  4.334828009273982e-15 \n",
      "\n"
     ]
    }
   ],
   "source": [
    "# 3\n",
    "def sin(x, mod = True):\n",
    "    if not mod:\n",
    "        term = x \n",
    "        val = term\n",
    "        n = 1\n",
    "        while val != val + term:\n",
    "            n += 2\n",
    "            term = - term * x * x / (n - 1) /n\n",
    "            val += term\n",
    "        return val\n",
    "    else:\n",
    "        x = x % (2 * np.pi)\n",
    "        return sin(x, mod = False)\n",
    "\n",
    "X = 10 * 3.1415926\n",
    "print('X = ', X, '\\nnumpy:\\nsinX = ',np.sin(X),'\\n')\n",
    "print('my (unmodified):\\nsinX = ', sin(X, mod = False), '\\nмашинный эпсилон: ', abs(sin(X, mod = False) - np.sin(X)), '\\n')\n",
    "print('my (modified):\\nsinX = ', sin(X), '\\nмашинный эпсилон: ', abs(sin(X) - np.sin(X)), '\\n')"
   ]
  },
  {
   "cell_type": "markdown",
   "metadata": {
    "id": "gpR6GBRtKmXq"
   },
   "source": [
    "# Задача 3"
   ]
  },
  {
   "cell_type": "markdown",
   "metadata": {
    "id": "xQ7BfspuTsOt"
   },
   "source": [
    "Реализовать вычисление трех основных норм векторов (L1, L2 и кубическую) и подчиненных им матричных норм. Реализовать вычисление числа обусловленности.\n",
    "\n",
    "Примечание: для вычисления собственных значений можно использовать linalg.eigvals из модуля scipy."
   ]
  },
  {
   "cell_type": "code",
   "execution_count": 41,
   "metadata": {},
   "outputs": [],
   "source": [
    "def L2(A):\n",
    "    if A.ndim == 1:\n",
    "        return np.sum(A**2)**0.5\n",
    "    return (np.amax(np.linalg.eigvals(A.T @ A)))**0.5\n",
    "\n",
    "def L1(A):\n",
    "    return np.amax(np.sum(np.abs(A), axis=0))\n",
    "\n",
    "def Linfty(A):\n",
    "    A = np.abs(A)\n",
    "    return np.amax(np.sum(A, axis=1))\n",
    "def cond(A):\n",
    "    return L2(A)*L2(np.linalg.inv(A))"
   ]
  },
  {
   "cell_type": "markdown",
   "metadata": {
    "id": "8-476ZEtKmk5"
   },
   "source": [
    "# Задача 4"
   ]
  },
  {
   "cell_type": "markdown",
   "metadata": {
    "id": "xzG3RPf-T07c"
   },
   "source": [
    "Реализовать метод Гаусса приведения матрицы к ступенчатому виду. Реализовать функцию вычисления ранга матрицы. Сгенерировать вырожденные матрицы различных рангов и размеров и проверить алгоритм."
   ]
  },
  {
   "cell_type": "code",
   "execution_count": 252,
   "metadata": {},
   "outputs": [],
   "source": [
    "def ForwardGauss(M, rank = False):\n",
    "    M = np.array(M, dtype='float')\n",
    "    n, m = M.shape\n",
    "    col = 0\n",
    "    cork = 0\n",
    "    for i in range(m):\n",
    "        \n",
    "        ind = col + np.argmax(np.abs(M.T[col + cork][col:]))\n",
    "    \n",
    "        if M.T[col + cork][ind] != 0:\n",
    "            M[col], M[ind] = M[ind], M[col]\n",
    "        else:\n",
    "            cork += 1\n",
    "            continue\n",
    "\n",
    "        for j in range(col + 1, n):\n",
    "            M[j] -=  M[col] / M[col, i] * M[j, i]\n",
    "        col += 1\n",
    "    if rank:\n",
    "        rk = n - cork\n",
    "        return M, rk\n",
    "    else:\n",
    "        return M\n",
    "    \n",
    "def rank(M):\n",
    "    return ForwardGauss(M, rank = True)[1]"
   ]
  },
  {
   "cell_type": "code",
   "execution_count": 271,
   "metadata": {},
   "outputs": [
    {
     "name": "stdout",
     "output_type": "stream",
     "text": [
      "[[4.49557485 4.64845697 3.47285425 9.43405312 8.94133476]\n",
      " [8.13406076 6.91323029 3.32976887 9.6787222  9.88480381]\n",
      " [8.13581674 9.03904536 8.76548117 5.43564185 8.37442321]\n",
      " [7.65576033 4.84041561 3.13553056 3.58682473 3.06230467]\n",
      " [1.02440458 7.68513763 0.76786083 4.90645062 0.24943293]] \n",
      "\n",
      "[[ 8.13581674  9.03904536  8.76548117  5.43564185  8.37442321]\n",
      " [ 0.          6.54700488 -0.33582665  4.22203298 -0.8050153 ]\n",
      " [ 0.          0.         -5.54276339  5.6138912   1.25103918]\n",
      " [ 0.          0.          0.          5.24754019  3.95797058]\n",
      " [ 0.          0.          0.          0.         -3.0459061 ]] \n",
      "\n",
      "[[ 8.13581674  9.03904536  8.76548117  5.43564185  8.37442321]\n",
      " [ 0.          6.54700488 -0.33582665  4.22203298 -0.8050153 ]\n",
      " [ 0.          0.         -5.30074999  0.83557939 -5.26866319]\n",
      " [ 0.          0.          0.          0.          0.        ]\n",
      " [ 0.          0.          0.          0.          0.        ]] \n",
      " 3\n"
     ]
    }
   ],
   "source": [
    "# N = np.array(\n",
    "#     [[2, 2, 4],\n",
    "#      [0, 0 ,1],\n",
    "#      [2, 2, 10]]);\n",
    "# M = np.array(\n",
    "#     [[1, 2, 4],\n",
    "#      [4, 0 ,1],\n",
    "#      [5, 2, 10]]);\n",
    "K = rand_mat(0, 10, 5, 5)\n",
    "print(K,'\\n')\n",
    "\n",
    "print(linalg.lu(K)[2], '\\n')\n",
    "\n",
    "K, rk = ForwardGauss(K, rank = True)\n",
    "print(K,'\\n', rk )"
   ]
  },
  {
   "cell_type": "code",
   "execution_count": 23,
   "metadata": {},
   "outputs": [],
   "source": [
    "# Пусть пока\n",
    "def ForwardGaussHelp(M):\n",
    "    return linalg.lu(M)[2]\n",
    "\n",
    "def RankHelp(M):\n",
    "    return np.linalg.matrix_rank(M)"
   ]
  },
  {
   "cell_type": "markdown",
   "metadata": {
    "id": "s8jGlqhJKmpB"
   },
   "source": [
    "# Задача 5"
   ]
  },
  {
   "cell_type": "markdown",
   "metadata": {
    "id": "smdRrcYuT4he"
   },
   "source": [
    "Реализовать метод Гаусса решения СЛАУ. Использовать данный метод для решения систем различных размеров. Оценить скорость работы метода Гаусса (необходимое количество операций) в зависимости от размера системы. "
   ]
  },
  {
   "cell_type": "code",
   "execution_count": 24,
   "metadata": {},
   "outputs": [],
   "source": [
    "def Gauss(M, y):\n",
    "    \n",
    "    A = np.array(M, dtype='float')\n",
    "    y = np.array(y, dtype='float')\n",
    "    \n",
    "    n = A.shape[0]\n",
    "    x = np.zeros(n)\n",
    "    y = y.reshape(n, 1)\n",
    "    \n",
    "    if RankHelp(M) < n:\n",
    "        print('Система имеет бесконечное количество решений')\n",
    "        return\n",
    "    \n",
    "    My = np.concatenate((M, y), axis=1)\n",
    "    My = ForwardGaussHelp(My)\n",
    "    for i in range(n - 1, -1, -1):\n",
    "        tmp = 0.0\n",
    "        for j in range(i + 1, n):\n",
    "            tmp += x[j] * My[i, j]\n",
    "        x[i] = (My[i, n] - tmp) / My[i, i]\n",
    "    return x"
   ]
  },
  {
   "cell_type": "code",
   "execution_count": 25,
   "metadata": {},
   "outputs": [
    {
     "data": {
      "text/plain": [
       "array([-0.5,  0.5,  1. ])"
      ]
     },
     "execution_count": 25,
     "metadata": {},
     "output_type": "execute_result"
    }
   ],
   "source": [
    "B = np.array([\n",
    "    [1, 3, 1],\n",
    "    [0, 2, 0],\n",
    "    [0, 0, 1]\n",
    "])\n",
    "f = [2, 1, 1]\n",
    "Gauss(B, f)"
   ]
  },
  {
   "cell_type": "markdown",
   "metadata": {
    "id": "634QUTkyKnWR"
   },
   "source": [
    "# Задача 6"
   ]
  },
  {
   "cell_type": "markdown",
   "metadata": {
    "id": "cxldprgmTnF1"
   },
   "source": [
    "Сгенерировать СЛАУ (размер матрицы должен быть не менее $50\\times 50$). Решить СЛАУ методом Гаусса для различных возмущений столбца свободных членов. Оценить число обусловленности, используя полученные результаты. Вычислить число обусловленности и сравнить с численными оценками."
   ]
  },
  {
   "cell_type": "code",
   "execution_count": 62,
   "metadata": {},
   "outputs": [
    {
     "name": "stdout",
     "output_type": "stream",
     "text": [
      "Condition numbers: \n",
      "estimation = 10.872567578366032, \n",
      "formula = 313.2267134612223\n",
      "77.84278594252979 4.02383740084114\n"
     ]
    }
   ],
   "source": [
    "N = 50\n",
    "A = rand_mat(N, N)\n",
    "b = rand_mat(N, 1)\n",
    "x = Gauss(A, b)\n",
    "\n",
    "nx = L2(x)\n",
    "nb = L2(b)\n",
    "x_error = []\n",
    "b_error = []\n",
    "\n",
    "for i in range(10000):\n",
    "    db = rand_epsilon(N, 1, 10e-1)\n",
    "    xn = Gauss(A, b + db)\n",
    "    dx = xn - x\n",
    "    x_error.append(L2(dx)/nx)\n",
    "    b_error.append(L2(db)/nb)\n",
    "\n",
    "cn = np.max(np.array(x_error) / np.array(b_error))\n",
    "print(\"Condition numbers: \\nestimation = {}, \\nformula = {}\".format(cn, cond(A)))\n",
    "\n",
    "print(L2(A), L2(np.linalg.inv(A)))"
   ]
  },
  {
   "cell_type": "code",
   "execution_count": 63,
   "metadata": {},
   "outputs": [
    {
     "data": {
      "image/png": "[encoded data removed]",
      "text/plain": [
       "<Figure size 432x288 with 1 Axes>"
      ]
     },
     "metadata": {
      "needs_background": "light"
     },
     "output_type": "display_data"
    }
   ],
   "source": [
    "plt.hist(errx, bins = 120)\n",
    "plt.show()"
   ]
  }
 ],
 "metadata": {
  "colab": {
   "collapsed_sections": [
    "MeXTSdSfKdL2",
    "sS3EHa1aKmJi",
    "gpR6GBRtKmXq",
    "8-476ZEtKmk5",
    "s8jGlqhJKmpB",
    "634QUTkyKnWR",
    "igJf5dJZRoXN",
    "WfmTt-36Te8Q"
   ],
   "name": "Семинар B1 (1).ipynb",
   "provenance": [],
   "toc_visible": true
  },
  "kernelspec": {
   "display_name": "Python 3",
   "language": "python",
   "name": "python3"
  },
  "language_info": {
   "codemirror_mode": {
    "name": "ipython",
    "version": 3
   },
   "file_extension": ".py",
   "mimetype": "text/x-python",
   "name": "python",
   "nbconvert_exporter": "python",
   "pygments_lexer": "ipython3",
   "version": "3.8.8"
  }
 },
 "nbformat": 4,
 "nbformat_minor": 1
}
