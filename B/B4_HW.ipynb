{
 "cells": [
  {
   "cell_type": "code",
   "execution_count": 3,
   "id": "e89ad9e4",
   "metadata": {},
   "outputs": [],
   "source": [
    "import numpy as np\n",
    "from matplotlib import pyplot as plt\n",
    "from scipy.sparse import diags"
   ]
  },
  {
   "cell_type": "markdown",
   "id": "aa081778",
   "metadata": {},
   "source": [
    "## Задача 1.\n",
    "\n",
    "> Напишите программу, реализующую приближённое решение системы линейных\n",
    "> алгебраических уравнений итерационным методом Якоби. С её помощью\n",
    "> найдите решение системы уравнений следующего вида: А𝑥 = 𝑓\n",
    ">\n",
    "$$\n",
    "\\begin{array}{cl}\n",
    "a_{i i}=2, & a_{i, i+1}=-1-\\alpha, \\quad a_{i, i-1}=-1+\\alpha \\\\\n",
    "f_{1}=1-\\alpha, & f_{i}=0, \\quad i=2,3, \\ldots, n-1, \\quad f_{n}=1+\\alpha\n",
    "\\end{array}\n",
    "$$\n",
    ">\n",
    "> Какое у этой системы точное решение? С какой скоростью метод сходится\n",
    "> в зависимости от n и α?"
   ]
  },
  {
   "cell_type": "code",
   "execution_count": 46,
   "id": "3f5cc10e",
   "metadata": {},
   "outputs": [],
   "source": [
    "def Jacobi(A, f, count = True, eps=10e-5, MAX=10000):\n",
    "    f = np.array(f)\n",
    "    A = np.array(A)\n",
    "    n = f.shape[0]\n",
    "    x_n1 = np.array(np.zeros(n))\n",
    "    x_n = np.array(np.zeros(n))\n",
    "    it = 0\n",
    "    for _ in range(MAX):\n",
    "        it += 1\n",
    "        for i in range(n):\n",
    "            tmp = 0.0\n",
    "            for j in range(n):\n",
    "                if j != i:\n",
    "                    tmp += A[i, j] * x_n1[j]\n",
    "            x_n[i] = (f[i] - tmp) / A[i, i]\n",
    "        if np.linalg.norm(x_n - x_n1) < eps:\n",
    "            break\n",
    "        x_n1 = x_n.copy()\n",
    "    if count:\n",
    "        return x_n, it\n",
    "    return x_n\n",
    "\n",
    "def MakeAf(n, alpha):\n",
    "    diagonals = [\n",
    "        2 * np.ones((n)), \n",
    "        (-1 - alpha) * np.ones((n-1)),\n",
    "        (-1 + alpha) * np.ones((n-1))\n",
    "    ]\n",
    "    A = diags(diagonals, [0, 1, -1]).toarray()\n",
    "    f = np.zeros((n, 1))\n",
    "    f[0] = 1 - alpha\n",
    "    f[n-1] = 1 + alpha\n",
    "    return A, f   "
   ]
  },
  {
   "cell_type": "markdown",
   "id": "2acffd73",
   "metadata": {},
   "source": [
    "Точное решение системы -- единичный столбец. Посмотрим, что скажет Якоби:"
   ]
  },
  {
   "cell_type": "code",
   "execution_count": 8,
   "id": "4e1c3600",
   "metadata": {},
   "outputs": [
    {
     "name": "stdout",
     "output_type": "stream",
     "text": [
      "[0.99995939 0.99999695 0.99999791 0.99999992 0.99999997]\n"
     ]
    }
   ],
   "source": [
    "A, f = MakeAf(5, 0.95)\n",
    "print(Jacobi(A, f)[0])"
   ]
  },
  {
   "cell_type": "markdown",
   "id": "415b36ee",
   "metadata": {},
   "source": [
    "Отл. Зависимость от альфы и размерности:"
   ]
  },
  {
   "cell_type": "code",
   "execution_count": 37,
   "id": "78ce97fd",
   "metadata": {},
   "outputs": [
    {
     "data": {
      "image/png": "[encoded data removed]",
      "text/plain": [
       "<Figure size 432x288 with 1 Axes>"
      ]
     },
     "metadata": {
      "needs_background": "light"
     },
     "output_type": "display_data"
    }
   ],
   "source": [
    "res = []\n",
    "alpha = 0.35\n",
    "N = 50\n",
    "dim = range(2, N)\n",
    "for d in dim:\n",
    "    A, f = MakeAf(d, alpha)\n",
    "    _, it = Jacobi(A, f)\n",
    "    res.append(it)\n",
    "plt.scatter(dim, res, c= 'r')\n",
    "plt.plot(dim, res, c= 'r')\n",
    "plt.show()"
   ]
  },
  {
   "cell_type": "code",
   "execution_count": 35,
   "id": "75a74ec0",
   "metadata": {},
   "outputs": [
    {
     "data": {
      "image/png": "[encoded data removed]",
      "text/plain": [
       "<Figure size 432x288 with 1 Axes>"
      ]
     },
     "metadata": {
      "needs_background": "light"
     },
     "output_type": "display_data"
    }
   ],
   "source": [
    "res = []\n",
    "alphas = np.linspace(0.001, 1.382, 45)\n",
    "dim = 10\n",
    "for a in alphas:\n",
    "    A, f = MakeAf(dim, a)\n",
    "    _, it = Jacobi(A, f)\n",
    "    res.append(it)\n",
    "plt.scatter(alphas, res, c= 'r')\n",
    "plt.plot(alphas, res, c= 'r')\n",
    "plt.show()"
   ]
  },
  {
   "cell_type": "markdown",
   "id": "d5df90a8",
   "metadata": {},
   "source": [
    "## Задача 2\n",
    ">\n",
    "> Напишите программу, реализующую приближённое решение системы линейных\n",
    "> алгебраических уравнений итерационным методом Зейделя. С её помощью\n",
    "> найдите решение системы уравнений из предыдущей задачи. Сравните между\n",
    "> собой скорости сходимости итерационных методов Якоби и Зейделя."
   ]
  },
  {
   "cell_type": "code",
   "execution_count": 44,
   "id": "22378cf2",
   "metadata": {},
   "outputs": [],
   "source": [
    "def Seidel(A, f, count = True, eps=10e-5, MAX=10000):\n",
    "    f = np.array(f)\n",
    "    A = np.array(A)\n",
    "    n = f.shape[0]\n",
    "    x_n1 = np.array(np.zeros(n))\n",
    "    x_n = np.array(np.zeros(n))\n",
    "    it = 0\n",
    "    for _ in range(MAX):\n",
    "        it += 1\n",
    "        for i in range(n):\n",
    "            tmp = 0.0\n",
    "            for j in range(n):\n",
    "                if j > i:\n",
    "                    tmp += A[i, j] * x_n1[j]\n",
    "                if j < i:\n",
    "                    tmp += A[i, j] * x_n[j]\n",
    "            x_n[i] = (f[i] - tmp) / A[i, i] \n",
    "        if np.linalg.norm(x_n - x_n1) < eps:\n",
    "            break\n",
    "        x_n1 = x_n.copy()\n",
    "    return x_n, it"
   ]
  },
  {
   "cell_type": "code",
   "execution_count": 52,
   "id": "6d08f88e",
   "metadata": {},
   "outputs": [
    {
     "data": {
      "image/png": "[encoded data removed]",
      "text/plain": [
       "<Figure size 432x288 with 1 Axes>"
      ]
     },
     "metadata": {
      "needs_background": "light"
     },
     "output_type": "display_data"
    }
   ],
   "source": [
    "Jres, Sres = [], []\n",
    "alpha = 0.35\n",
    "N = 70\n",
    "dim = range(2, N)\n",
    "for d in dim:\n",
    "    A, f = MakeAf(d, alpha)\n",
    "    _, it = Seidel(A, f)\n",
    "    Sres.append(it)\n",
    "    _, it = Jacobi(A, f)\n",
    "    Jres.append(it)\n",
    "plt.plot(dim, Sres, label='Sres', c = 'r')\n",
    "plt.plot(dim, Jres, label='Jres', c = 'g')\n",
    "plt.legend()\n",
    "plt.show()"
   ]
  },
  {
   "cell_type": "code",
   "execution_count": 53,
   "id": "57374625",
   "metadata": {},
   "outputs": [
    {
     "data": {
      "image/png": "[encoded data removed]",
      "text/plain": [
       "<Figure size 432x288 with 1 Axes>"
      ]
     },
     "metadata": {
      "needs_background": "light"
     },
     "output_type": "display_data"
    }
   ],
   "source": [
    "rel = np.array(Jres)/np.array(Sres)\n",
    "plt.plot(dim, rel, label='Relation', c = 'r')\n",
    "plt.yscale('log')\n",
    "plt.legend()\n",
    "plt.show()"
   ]
  },
  {
   "cell_type": "markdown",
   "id": "c48d6a8b",
   "metadata": {},
   "source": [
    "## Задача 3\n",
    ">\n",
    "> Доказать, что при условии наличия диагонального преобладания у матрицы\n",
    "> системы метод Зейделя сходится, причем быстрее метода Гаусса–Якоби."
   ]
  },
  {
   "cell_type": "markdown",
   "id": "ebb3631a",
   "metadata": {},
   "source": [
    "## Задача 4.\n",
    "\n",
    "> Напишите программу, реализующую приближённое решение системы линейных алгебраических уравнений методом релаксации (обобщение методов Гаусса\n",
    "> и Зейделя):\n",
    ">\n",
    "$$\n",
    "\\begin{array}{c}\n",
    "A=L+D+U \\\\\n",
    "(D+L) \\cdot \\frac{x_{k+1}-x_{k}}{\\tau_{k+1}}+A x_{k}=f, \\quad k=1,2 \\ldots\n",
    "\\end{array}\n",
    "$$\n",
    ">\n",
    "> Исследуйте зависимость скорости сходимости этого итерационного метода от\n",
    "> итерационного параметра  при численном решении системы\n",
    "> уравнений из первой задачи в зависимости от параметров n и α."
   ]
  },
  {
   "cell_type": "markdown",
   "id": "a248a200",
   "metadata": {},
   "source": [
    "## Задача 5.\n",
    ">\n",
    "> Напишите программу, реализующую приближённое решение системы линейных\n",
    "> алгебраических уравнений методом верхней релаксации:\n",
    ">\n",
    "$$\n",
    "(D+\\tau L) \\cdot \\frac{x_{k+1}-x_{k}}{\\tau}+A x_{k}=f, \\quad k=1,2 \\ldots\n",
    "$$\n",
    ">\n",
    "> Исследуйте зависимость скорости сходимости этого итерационного метода\n",
    "> от итерационного параметра 𝜏 при численном решении системы уравнений\n",
    "> из первой задачи в зависимости от параметров n и α."
   ]
  },
  {
   "cell_type": "markdown",
   "id": "ac6384ea",
   "metadata": {},
   "source": [
    "## Задача 6.\n",
    ">\n",
    "> Решите систему из задачи 1 с помощью Чебышевского ускорения МПИ. Все\n",
    "> расчётные формулы можно посмотреть, например, в лекциях Аристовой.\n",
    "> <u>Maths-NumAnalysis-M05-Aristova-141001.03.pdf (lectoriy.ru)</u>"
   ]
  }
 ],
 "metadata": {
  "kernelspec": {
   "display_name": "Python 3",
   "language": "python",
   "name": "python3"
  },
  "language_info": {
   "codemirror_mode": {
    "name": "ipython",
    "version": 3
   },
   "file_extension": ".py",
   "mimetype": "text/x-python",
   "name": "python",
   "nbconvert_exporter": "python",
   "pygments_lexer": "ipython3",
   "version": "3.8.8"
  }
 },
 "nbformat": 4,
 "nbformat_minor": 5
}
