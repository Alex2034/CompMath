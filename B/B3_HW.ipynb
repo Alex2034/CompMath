{
 "cells": [
  {
   "cell_type": "code",
   "execution_count": 45,
   "metadata": {},
   "outputs": [],
   "source": [
    "import scipy.linalg\n",
    "import scipy.sparse.linalg\n",
    "import numpy as np\n",
    "import time\n",
    "\n",
    "import sys as ss\n",
    "import scipy\n",
    "import numpy as np\n",
    "\n",
    "from scipy.sparse.linalg import spsolve"
   ]
  },
  {
   "cell_type": "markdown",
   "metadata": {
    "id": "MeXTSdSfKdL2"
   },
   "source": [
    "## Задача 1\n"
   ]
  },
  {
   "cell_type": "markdown",
   "metadata": {
    "id": "19smb2owQS40"
   },
   "source": [
    "Реализовать с помощью scipy генератор полосатых матриц, который должен поддерживать функции:\n",
    "* Генерация абсолютно случайной полосатой матрицы $n\\times m$\n",
    "* Генерация полосатой матрицы с постоянными коэффициентами вдоль каждой полосы $n\\times 1$\n",
    "* Генерация случайного возмущения матрицы $n\\times m$, каждый элемент которой не превосходит по модулю заданный $\\varepsilon$\n",
    "* Генерация полосатой матрицы, в которой полосы заданы векторами.\n",
    "\n",
    " Сравнить три приведённых ниже метода создания матриц между собой по использованию памяти, используя измерение размера объектов в Python (sys.getsizeof(object[, default])). \n",
    " Реализовать генератор матриц всеми тремя методами, сравнить их также по скорости (для решения систем уравнений).\n",
    "\n",
    "\n"
   ]
  },
  {
   "cell_type": "markdown",
   "metadata": {},
   "source": [
    "#### Сравним сначала три метода генерации матриц и решения уравнений (для систем 3000х3000):"
   ]
  },
  {
   "cell_type": "code",
   "execution_count": 56,
   "metadata": {},
   "outputs": [],
   "source": [
    "N = 3000\n",
    "m = 3\n",
    "f = np.random.normal(0, 10, N)"
   ]
  },
  {
   "cell_type": "markdown",
   "metadata": {},
   "source": [
    "### 1 метод"
   ]
  },
  {
   "cell_type": "code",
   "execution_count": 57,
   "metadata": {
    "id": "fpAZctoEOXxC"
   },
   "outputs": [
    {
     "name": "stdout",
     "output_type": "stream",
     "text": [
      "Генерация: 8.002519607543945 ms\n",
      "Решение: 1009.5672607421875 ms\n",
      "Использовано памяти: 72120736 b\n"
     ]
    }
   ],
   "source": [
    "t0 = time.time()\n",
    "\n",
    "Ap, As, An, Aw, Ae = np.ones(N), np.ones(N), np.ones(N), np.ones(N), np.ones(N)\n",
    "diagonals = [Ap, As, An, Aw, Ae]\n",
    "A = scipy.sparse.diags(diagonals, [0, -1, 1, -m, m]).toarray()\n",
    "\n",
    "memory = ss.getsizeof(Ap)*5 + ss.getsizeof(diagonals) + ss.getsizeof(A)\n",
    "t1 = time.time()\n",
    "\n",
    "x = scipy.linalg.solve(A, f)\n",
    "# print(A, x, sep = '\\n')\n",
    "\n",
    "t2 = time.time()\n",
    "\n",
    "print(\"Генерация: %s ms\" % ((t1 - t0) * 1000))\n",
    "print(\"Решение: %s ms\" % ((t2 - t1) * 1000))\n",
    "print(\"Использовано памяти: %s b\"%(memory))"
   ]
  },
  {
   "cell_type": "markdown",
   "metadata": {},
   "source": [
    "### 2 метод"
   ]
  },
  {
   "cell_type": "code",
   "execution_count": 58,
   "metadata": {
    "id": "erDyhJCuQyfz"
   },
   "outputs": [
    {
     "name": "stdout",
     "output_type": "stream",
     "text": [
      "Генерация: 11.004447937011719 ms\n",
      "Решение: 1.0013580322265625 ms\n",
      "Использовано памяти: 288736 b\n"
     ]
    }
   ],
   "source": [
    "t0 = time.time()\n",
    "\n",
    "Ap, As, An, Aw, Ae = np.ones(N), np.ones(N), np.ones(N), np.ones(N), np.ones(N)\n",
    "A = np.zeros((2 * m + 1, N))\n",
    "A[0] = Ae\n",
    "A[m - 1] = An\n",
    "A[m] = Ap\n",
    "A[m + 1] = As\n",
    "A[2 * m] = Aw\n",
    "\n",
    "memory = ss.getsizeof(Ap)*5 + ss.getsizeof(diagonals) + ss.getsizeof(A)\n",
    "t1 = time.time() \n",
    "\n",
    "x = scipy.linalg.solve_banded((m, m), A, f)\n",
    "# print(A, x, sep = '\\n')\n",
    "\n",
    "t2 = time.time()\n",
    "\n",
    "print(\"Генерация: %s ms\" % ((t1 - t0) * 1000))\n",
    "print(\"Решение: %s ms\" % ((t2 - t1) * 1000))\n",
    "print(\"Использовано памяти: %s b\"%(memory))"
   ]
  },
  {
   "cell_type": "markdown",
   "metadata": {},
   "source": [
    "### 3 метод"
   ]
  },
  {
   "cell_type": "code",
   "execution_count": 59,
   "metadata": {
    "id": "qk7z0LV1TR6y"
   },
   "outputs": [
    {
     "name": "stdout",
     "output_type": "stream",
     "text": [
      "Генерация: 1.001119613647461 ms\n",
      "Решение: 7.007837295532227 ms\n",
      "Использовано памяти: 120664 b\n"
     ]
    }
   ],
   "source": [
    "t0 = time.time()\n",
    "\n",
    "Ap, As, An, Aw, Ae = np.ones(N), np.ones(N), np.ones(N), np.ones(N), np.ones(N)\n",
    "diagonals = [Ap, As, An, Aw, Ae]\n",
    "A = scipy.sparse.diags(diagonals, [0, -1, 1, -m, m])\n",
    "memory = ss.getsizeof(Ap)*5 + ss.getsizeof(diagonals) + ss.getsizeof(A)\n",
    "\n",
    "t1 = time.time()\n",
    "\n",
    "x = spsolve(A, f)\n",
    "# print(A, x, sep = '\\n')\n",
    "\n",
    "t2 = time.time()\n",
    "\n",
    "print(\"Генерация: %s ms\" % ((t1 - t0) * 1000))\n",
    "print(\"Решение: %s ms\" % ((t2 - t1) * 1000))\n",
    "print(\"Использовано памяти: %s b\"%(memory))"
   ]
  },
  {
   "cell_type": "markdown",
   "metadata": {},
   "source": [
    "#### Очевидно преимущество последнего метода, поэтому его и реализуем."
   ]
  },
  {
   "cell_type": "code",
   "execution_count": 51,
   "metadata": {},
   "outputs": [],
   "source": [
    "def random_band_mat(N):\n",
    "    d1 = np.random.uniform(-1, 1, size=N - 1)\n",
    "    d2 = np.random.uniform(-1, 1, size=N)\n",
    "    d3 = np.random.uniform(-1, 1, size=N - 1)\n",
    "    diagonals = [d1, d2, d3]\n",
    "    return scipy.sparse.diags(diagonals, [-1,0, 1])\n",
    "    \n",
    "def const_band_mat(N, a, b, c):\n",
    "    d1 = A * np.ones(N-1)\n",
    "    d2 = B * np.ones(N)\n",
    "    d3 = C * np.ones(N-1)\n",
    "    diagonals = [d1, d2, d3]\n",
    "    return scipy.sparse.diags(diagonals, [-1,0, 1])\n",
    "\n",
    "def epsilon_band_mat(N, eps):\n",
    "    d1 = np.random.uniform(-eps, eps, size=N - 1)\n",
    "    d2 = np.random.uniform(-eps, eps, size=N)\n",
    "    d3 = np.random.uniform(-eps, eps, size=N - 1)\n",
    "    diagonals = [d1, d2, d3]\n",
    "    return scipy.sparse.diags(diagonals, [-1,0, 1])\n",
    "\n",
    "def vector_band_mat(N, d1, d2, d3):\n",
    "    diagonals = [d1, d2, d3]\n",
    "    return scipy.sparse.diags(diagonals, [-1,0, 1])"
   ]
  },
  {
   "cell_type": "markdown",
   "metadata": {
    "id": "sS3EHa1aKmJi"
   },
   "source": [
    "## Задача 2\n"
   ]
  },
  {
   "cell_type": "markdown",
   "metadata": {
    "id": "nMUUtmljQZO1"
   },
   "source": [
    "В третьем методе из предыдущей задачи для повышения производительности можно использовать sparse.linalg.splu(A).solve(b) , который использует LU-декомпозицию, после чего объект SuperLU  имеет свой собственный метод solve.\n",
    "\n",
    "Реализуйте генератор матриц из первого задания, используя этот метод. \n",
    "https://docs.scipy.org/doc/scipy/reference/sparse.linalg.html#module-scipy.sparse.linalg   \n",
    "\n",
    "Убедитесь измерением времени работы, что он работает быстрее. Однако третий метод из предыдущей задачи считается самым предпочтительным. Найдите, в чём недостаток предложенного в этой задаче метода, и докажите его с помощью измерений.\n",
    "\n",
    "Для измерений можно использовать \n",
    "\n",
    "https://docs.python.org/3/library/resource.html#resource-usage  "
   ]
  },
  {
   "cell_type": "code",
   "execution_count": 60,
   "metadata": {},
   "outputs": [
    {
     "name": "stdout",
     "output_type": "stream",
     "text": [
      "Генерация: 2.002716064453125 ms\n",
      "Решение: 5.999088287353516 ms\n",
      "Использовано памяти: 120664 b\n"
     ]
    }
   ],
   "source": [
    "t0 = time.time()\n",
    "\n",
    "Ap, As, An, Aw, Ae = np.ones(N), np.ones(N), np.ones(N), np.ones(N), np.ones(N)\n",
    "diagonals = [Ap, As, An, Aw, Ae]\n",
    "A = scipy.sparse.csc_matrix(scipy.sparse.diags(diagonals, [0, -1, 1, -m, m]))\n",
    "\n",
    "memory = ss.getsizeof(Ap)*5 + ss.getsizeof(diagonals) + ss.getsizeof(A)\n",
    "t1 = time.time()\n",
    "\n",
    "x = scipy.sparse.linalg.splu(A).solve(f)\n",
    "# print(A, x, sep = '\\n')\n",
    "\n",
    "t2 = time.time()\n",
    "\n",
    "print(\"Генерация: %s ms\" % ((t1 - t0) * 1000))\n",
    "print(\"Решение: %s ms\" % ((t2 - t1) * 1000))\n",
    "print(\"Использовано памяти: %s b\"%(memory))"
   ]
  },
  {
   "cell_type": "markdown",
   "metadata": {
    "id": "gpR6GBRtKmXq"
   },
   "source": [
    "## Задача 3"
   ]
  },
  {
   "cell_type": "markdown",
   "metadata": {
    "id": "xQ7BfspuTsOt"
   },
   "source": [
    "После первой стадии метода вращений Гивенса система имеет вид \n",
    "\n",
    "\n",
    "$a_{11}^{(n-1)} x_{1}+a_{12}^{(n-1)} x_{2}+a_{13}^{(n-1)} x_{3}+\\ldots+a_{1 n}^{(n-1)} x_{n}=b_{1}^{(n-1)}$,\n",
    "\n",
    "$a_{22}^{(1)} x_{2}+a_{23}^{(1)} x_{3}+\\ldots+a_{2 n}^{(1)} x_{n}=b_{2}^{(1)}$,\n",
    "\n",
    "\\.......................................................................\n",
    "  \n",
    "$a_{n 2}^{(1)} x_{2}+a_{n 3}^{(1)} x_{3}+\\ldots+a_{n n}^{(1)} x_{n}=b_{n}^{(1)}$\n",
    "\n",
    "\n",
    "Доказать следующие формулы:\n",
    "\n",
    "$$\n",
    "\\begin{aligned}\n",
    "a_{1 j}^{(l-1)}=& c_{1 l} a_{1 j}^{(l-2)}+s_{1 l} a_{l j}, \\ \\ a_{l j}^{(1)} =-s_{1 l} a_{1 j}^{(l-2)}+c_{1 l} a_{l j}, \\quad a_{1 j}^{(0)}=a_{1 j},\n",
    " \\\\\n",
    "b_{1}^{(l-1)}=& c_{1 l} b_{1}^{(l-2)}+s_{1 l} b_{l}, \\ \\ b_{l}^{(1)} =-s_{1 l} b_{1}^{(l-2)}+c_{1 l} b_{l}, \n",
    "\\\\\n",
    "c_{1 l} &=\\frac{a_{11}^{(l-2)}}{\\sqrt{\\left(a_{11}^{(l-2)}\\right)^{2}+a_{l 1}^{2}}}, \\quad s_{1 l} =\\frac{a_{l 1}}{\\sqrt{\\left(a_{11}^{(l-2)}\\right)^{2}+a_{l 1}^{2}}} & \\\\\n",
    " & l=2,3, \\ldots, n .\n",
    "\\end{aligned}\n",
    "$$"
   ]
  },
  {
   "cell_type": "markdown",
   "metadata": {
    "id": "WJxMpmGHYUGH"
   },
   "source": [
    "После второй стадии метода вращения Гивенса система уравнений имеет вид: \n",
    "\n",
    "$$\n",
    "\\begin{aligned}\n",
    "a_{11}^{(n-1)} x_{1}+a_{12}^{(n-1)} x_{2}+& a_{13}^{(n-1)} x_{3}+\\ldots+a_{1 n}^{(n-1)} x_{n}=b_{1}^{(n-1)} \\\\\n",
    "a_{22}^{(n-1)} x_{2}+& a_{23}^{(n-1)} x_{3}+\\ldots+a_{2 n}^{(n-1)} x_{n}=b_{2}^{(n-1)} \\\\\n",
    "& a_{33}^{(2)} x_{3}+\\ldots+a_{3 n}^{(2)} x_{n}=b_{3}^{(2)} \\\\\n",
    "& \\ldots \\ldots \\ldots \\ldots \\ldots \\ldots \\ldots \\ldots \\ldots \\ldots \\ldots \\ldots \\ldots \\ldots \\\\\n",
    "& a_{n 3}^{(2)} x_{3}+\\ldots+a_{n n}^{(2)} x_{n}=b_{n}^{(2)}\n",
    "\\end{aligned}\n",
    "$$\n",
    "Доказать следующие формулы\n",
    "$$\n",
    "\\begin{aligned}\n",
    "a_{2 j}^{(l-1)}=& c_{2 l} a_{2 j}^{(l-2)}+s_{2 l} a_{l j}^{(1)}, \\ \\ \\ a_{l j}^{(2)}=-s_{2 l} a_{2 j}^{(l-2)}+c_{2 l} a_{l j}^{(1)} \\\\\n",
    "&  j=2,3, \\ldots, n \\\\\n",
    "b_{2}^{(l-1)}=& c_{2 l} b_{2}^{(l-2)}+s_{2 l} b_{l}^{(1)},\\ \\ \\ b_{l}^{(2)}=-s_{2 l} b_{2}^{(l-2)}+c_{2 l} b_{l}^{(1)} \\\\\n",
    "&  \n",
    "l=3,4, \\ldots, n \\\\\n",
    "c_{2 l}=& \\frac{a_{22}^{(l-2)}}{\\left(a_{22}^{(l-2)}\\right)^{2}+\\left(a_{l 2}^{(1)}\\right)^{2}}, \\ \\ \\ s_{2 l}=\\frac{a_{l 2}^{(1)}}{\\sqrt{\\left(a_{22}^{(l-2)}\\right)^{2}+\\left(a_{l 2}^{(1)}\\right)^{2}}}\n",
    "\\end{aligned}\n",
    "$$"
   ]
  },
  {
   "cell_type": "markdown",
   "metadata": {
    "id": "6gQu1sLtYgS1"
   },
   "source": [
    "Доказать следующие формулы \n",
    "\n",
    "$a_{2 j}^{(l-1)}=c_{2 l} a_{2 j}^{(l-2)}+s_{2 l} a_{l j}^{(1)}, \\quad a_{l j}^{(2)}=-s_{2 l} a_{2 j}^{(l-2)}+c_{2 l} a_{l j}^{(1)}$,\n",
    "$j=2,3, \\ldots, n$\n",
    "$b_{2}^{(l-1)}=c_{2 l} b_{2}^{(l-2)}+s_{2 l} b_{l}^{(1)}, \\quad b_{l}^{(2)}=-s_{2 l} b_{2}^{(l-2)}+c_{2 l} b_{l}^{(1)}$,\n",
    "$l=3,4, \\ldots, n$\n",
    "$c_{2 l}=\\frac{a_{22}^{(l-2)}}{\\sqrt{\\left(a_{22}^{(l-2)}\\right)^{2}+\\left(a_{l 2}^{(1)}\\right)^{2}}}, \\quad s_{2 l}=\\frac{a_{l 2}^{(1)}}{\\sqrt{\\left(a_{22}^{(l-2)}\\right)^{2}+\\left(a_{l 2}^{(1)}\\right)^{2}}}$\n",
    "\n",
    "После (n-1) шагов метода Гивенса получаем систему;\n",
    "\n",
    "$$\n",
    "\\begin{array}{r}\n",
    "a_{11}^{(n-1)} x_{1}+a_{12}^{(n-1)} x_{2}+a_{13}^{(n-1)} x_{3}+\\ldots+a_{1 n}^{(n-1)} x_{n}=b_{1}^{(n-1)} \\\\\n",
    "a_{22}^{(n-1)} x_{2}+a_{23}^{(n-1)} x_{3}+\\ldots+a_{2 n}^{(n-1)} x_{n}=b_{2}^{(n-1)} \\\\\n",
    "\\ldots \\ldots \\ldots \\ldots \\ldots \\ldots \\ldots \\ldots \\ldots \\ldots \\ldots \\ldots \\ldots \\ldots \\ldots \\ldots \\ldots \\ldots \\ldots \\ldots \\ldots \\ldots \\ldots  \\\\\n",
    "a_{n n}^{(n-1)} x_{n}=b_{n}^{(n-1)}\n",
    "\\end{array}\n",
    "$$\n",
    "где"
   ]
  },
  {
   "cell_type": "markdown",
   "metadata": {
    "id": "uGoR1M4uRCrZ"
   },
   "source": [
    "$$\n",
    "\\begin{aligned}\n",
    "a_{k j}^{(l-1)}=& c_{k l} a_{k j}^{(l-2)}+s_{k l} a_{l j}^{(k-1)}, \\ \\ \\  a_{l j}^{(k)}=-s_{k l} a_{k j}^{(l-2)}+c_{k l} a_{l j}^{(k-1)}, \\\\\n",
    "&  j=k, k+1, \\ldots, n, \\\\\n",
    "b_{k}^{(l-1)}=& c_{k l} b_{k}^{(l-2)}+s_{k l} b_{l}^{(k-1)},\\ \\ \\  b_{l}^{(k)}=-s_{k l} b_{k}^{(l-2)}+c_{k l} b_{l}^{(k-1)}, \\\\\n",
    "& k=1, \\ldots, n, \\ \\ \\ \\ \\ \\  l=k+1, \\ldots, n,\n",
    "\\end{aligned}\n",
    "$$\n",
    "a\n",
    "$$\n",
    "c_{k l}=\\frac{a_{k k}^{(l-2)}}{\\sqrt{\\left(a_{k k}^{(l-2)}\\right)^{2}+\\left(a_{l k}^{(k-1)}\\right)^{2}}}, \\quad s_{k l}=\\frac{a_{l k}^{(k-1)}}{\\sqrt{\\left(a_{k k}^{(l-2)}\\right)^{2}+\\left(a_{l k}^{(k-1)}\\right)^{2}}}\n",
    "$$\n",
    "\n",
    "Доказать, что метод Гивенса реализует QR-разложение матрицы.\n",
    "\n",
    "$$\n",
    "A=Q R\n",
    "$$\n",
    "\n",
    "где $Q-$ ортогональная матрица, а $R-$ верхняя треугольная с положительными элементами на главной диагонали."
   ]
  },
  {
   "cell_type": "markdown",
   "metadata": {},
   "source": [
    "### Решение:\n",
    "Представим строки системы как вектора в n-мерном пространстве\n",
    "Первая стадия метода есть выделение n поворотов в плоскостях $(x^1, x^i), \\quad i = 2,...,n$, \n",
    "таких, что $1$-я и $j$-я строки получаются данным поворотом из строк \n",
    "\n",
    "$(a^{(n-1)}_{11}, a^{(n-1)}_{12}, ...)\\quad$ и $\\quad(0, a^{(1)}_{22}, ...)$,\n",
    "\n",
    "то есть исходная матрица разбивается в произведение ортогональных и матрицы с единственным ненулевым элементом в первом столбце.\n",
    "\n",
    "\n",
    "Аналогично поворачивая плоскости $(x^j, x^i), \\quad i = j+1,...,n$ на $j$-х этапах, получим произведение ортогональной и верхнетреугольной матрицы -- $QR$-разложение\n",
    "\n",
    "Коэффициенты $c, s$ в матрицах поворота (соответствующие косинусы и синусы) подбираются так, чтобы удовлетворить требуемым соотношениям."
   ]
  },
  {
   "cell_type": "markdown",
   "metadata": {
    "id": "8-476ZEtKmk5"
   },
   "source": [
    "## Задача 4"
   ]
  },
  {
   "cell_type": "markdown",
   "metadata": {
    "id": "xzG3RPf-T07c"
   },
   "source": [
    "Покажите, что при больших n метод Гивенса требует\n",
    "$$\n",
    "\\approx 4 n^{3}/3\n",
    "$$\n",
    "действий умножения. \n",
    "\n",
    "Докажите, что метод Гаусса требует примерно в 4 раза меньше.\n",
    "Примените и тот, и другой метод для решения систем уравнений, используя библиотечные функции, и продемонстрируйте эту разницу измерением времени работы."
   ]
  },
  {
   "cell_type": "code",
   "execution_count": null,
   "metadata": {},
   "outputs": [],
   "source": []
  },
  {
   "cell_type": "markdown",
   "metadata": {
    "id": "s8jGlqhJKmpB"
   },
   "source": [
    "## Задача 5"
   ]
  },
  {
   "cell_type": "markdown",
   "metadata": {
    "id": "smdRrcYuT4he"
   },
   "source": [
    "Реализовать итерационный метод Гаусса решения СЛАУ и метод простой итерации. Использовать данные методы для решения систем различных размеров. Оценить скорость работы методов (необходимое количество операций на одну итерацию) в зависимости от размера системы. \n",
    "\n",
    "."
   ]
  },
  {
   "cell_type": "code",
   "execution_count": 79,
   "metadata": {},
   "outputs": [],
   "source": [
    "def GaussSeidel(A, f, tol=1e-8, count=False):\n",
    "    \n",
    "    f = np.reshape(f, (-1,1))\n",
    "    \n",
    "    L_plus_D, U = np.tril(A, k=0), np.triu(A, k=1)\n",
    "    L_plus_D_inv = scipy.linalg.inv(L_plus_D)\n",
    "    L_plus_D_inv_U = - L_plus_D_inv @ U\n",
    "    L_plus_D_f = L_plus_D_inv @ f\n",
    "    \n",
    "    q = np.linalg.norm(L_plus_D_inv_U, ord=2)\n",
    "    \n",
    "    x = np.zeros((A.shape[0], 1))\n",
    "    xn = L_plus_D_inv_U @ x + L_plus_D_f\n",
    "    \n",
    "    counter = 1\n",
    "    while(np.linalg.norm((xn - x), ord=2) > (1-q)*tol):\n",
    "        x = xn\n",
    "        counter += 1\n",
    "        xn = L_plus_D_inv_U @ x + L_plus_D_f\n",
    "    if count:\n",
    "        return (xn, counter)\n",
    "    else:\n",
    "        return xn"
   ]
  },
  {
   "cell_type": "code",
   "execution_count": 80,
   "metadata": {},
   "outputs": [],
   "source": [
    "def OptParameter(A):\n",
    "    E = np.eye(A.shape[0])\n",
    "    delta = 1\n",
    "    t = 0\n",
    "    dt = 1e-3\n",
    "    q = np.linalg.norm(E-t*A, ord=2)\n",
    "    k = 0\n",
    "    while q > 0.8:\n",
    "        dq = -np.linalg.norm(E-(t+dt)*A, ord=2) + q\n",
    "        t += dq * delta\n",
    "        k += 1\n",
    "        if(k>100):\n",
    "            k = 0\n",
    "            delta *= 0.1\n",
    "        q = np.linalg.norm(E-t*A, ord=2)\n",
    "        \n",
    "    return (t, q)"
   ]
  },
  {
   "cell_type": "code",
   "execution_count": 81,
   "metadata": {},
   "outputs": [],
   "source": [
    "def FPIteration(A, f, tol=1e-8, count=False):\n",
    "    f = np.reshape(f, (-1,1))\n",
    "    t, q = OptParameter(A)\n",
    "    M = np.eye(A.shape[0]) - t*A\n",
    "    tf = t*f\n",
    "    x = np.zeros(tf.shape)\n",
    "    xn = M @ x + tf\n",
    "    k = 1\n",
    "    while(np.linalg.norm(xn-x, ord=2) > tol*(1-q)):\n",
    "        k += 1\n",
    "        x = xn\n",
    "        xn= M @ x + tf\n",
    "    if count:\n",
    "        return (xn, k)\n",
    "    else:\n",
    "        return xn"
   ]
  },
  {
   "cell_type": "code",
   "execution_count": 119,
   "metadata": {},
   "outputs": [],
   "source": [
    "N = 40\n",
    "tol = 1e-5\n",
    "dims = np.arange(2, N)\n",
    "gs, gs_err, fpi, fpi_err = [], [], [], []\n",
    "\n",
    "for n in dims:\n",
    "    cs1 = []\n",
    "    cs2 = []\n",
    "    for _ in range(20):\n",
    "        A = np.random.uniform(-10, 10, [n, n]) + 10*n*np.eye(n)\n",
    "        f = np.random.uniform(-10, 10, [n])\n",
    "        _, count1 = GaussSeidel(A, f, tol=tol, count=True)\n",
    "        _, count2 = FPIteration(A, f, tol=tol, count=True)\n",
    "        cs1.append(count1)\n",
    "        cs2.append(count2)\n",
    "    gs.append(np.mean(cs1))\n",
    "    gs_err.append(np.std(cs1))\n",
    "    fpi.append(np.mean(cs2))\n",
    "    fpi_err.append(np.std(cs2))"
   ]
  },
  {
   "cell_type": "code",
   "execution_count": 120,
   "metadata": {},
   "outputs": [
    {
     "data": {
      "image/png": "[encoded data removed]",
      "text/plain": [
       "<Figure size 432x288 with 1 Axes>"
      ]
     },
     "metadata": {
      "needs_background": "light"
     },
     "output_type": "display_data"
    }
   ],
   "source": [
    "plt.errorbar(dims, gs, yerr = gs_err, c='r', label = 'Гаусс-Зейдель')\n",
    "plt.errorbar(dims, fpi, yerr = fpi_err, c='b', label = 'МПИ')\n",
    "plt.grid()\n",
    "plt.legend()\n",
    "plt.xlabel('Размерность')\n",
    "plt.ylabel('Число итераций,\\nточность = 10e-5')\n",
    "plt.show()"
   ]
  }
 ],
 "metadata": {
  "colab": {
   "collapsed_sections": [
    "MeXTSdSfKdL2",
    "sS3EHa1aKmJi",
    "gpR6GBRtKmXq",
    "8-476ZEtKmk5",
    "s8jGlqhJKmpB",
    "634QUTkyKnWR"
   ],
   "name": "Problems_B3.ipynb",
   "provenance": [],
   "toc_visible": true
  },
  "kernelspec": {
   "display_name": "Python 3",
   "language": "python",
   "name": "python3"
  },
  "language_info": {
   "codemirror_mode": {
    "name": "ipython",
    "version": 3
   },
   "file_extension": ".py",
   "mimetype": "text/x-python",
   "name": "python",
   "nbconvert_exporter": "python",
   "pygments_lexer": "ipython3",
   "version": "3.8.8"
  }
 },
 "nbformat": 4,
 "nbformat_minor": 1
}
